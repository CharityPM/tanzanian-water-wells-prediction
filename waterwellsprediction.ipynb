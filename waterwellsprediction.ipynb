{
 "cells": [
  {
   "cell_type": "markdown",
   "id": "199079dc",
   "metadata": {},
   "source": [
    "#                 **TANZANIAN WATER WELLS PREDICTION**\n",
    "\n",
    "##### **Name**-Charity Mwangangi\n",
    "##### **Student pace**-Part time\n",
    "##### **TM**- Maryann Mwikali\n",
    "##### **Phase 3 Project **\n",
    "\n",
    "## **1.Business understanding Problem and Objective**\n",
    "\n",
    "### Stateholder:Tanzanian NGO\n",
    "\n",
    "### **Overview**\n",
    "\n",
    "#### Tanzania faces significant challenges in providing consistent access to clean water for its citizens. With an estimated population of 70.5 million in mid‑2025, Tanzania remains one of Africa’s fastest-growing nations in terms of population and resource demand.\n",
    "\n",
    "### **Business problem**\n",
    "#### The client seeks insights into patterns distinguishing **functional** versus **non-functional or repair-needed wells**, to inform drilling strategies and maintenance priorities. The goal is to help villages avoid prolonged downtime and reduce socio-economic burdens especially on women and children, who are often tasked with collecting water.\n",
    "\n",
    "### **Project objective**\n",
    "#### Use the Pump It Up dataset (featuring features like pump type, installation year, payment method, and location) to build a **classification model** that:\n",
    "#### - Predict well status in a **binary setup**: functional vs. needs attention (repair or non-functional).  \n",
    "#### -  Identify the key features driving pump failures (e.g., pump type, installation year, management system).\n",
    "\n",
    "### **Project goal/value**\n",
    "#### Enables targeted maintenance, directing resources to at-risk wells before they fail.#### Reduces the socioeconomic burden of water insecurity by ensuring greaterhealth, education, and gender equity outcomes.\n",
    "\n",
    "### **Data source**\n",
    "#### DrivenData. (2015). Pump it Up: Data Mining the Water Table. Retrieved [Month Day Year] from https://www.drivendata.org/competitions/7/pump-it-up-data-mining-the-water-table.\n",
    "\n",
    "\n"
   ]
  },
  {
   "cell_type": "markdown",
   "id": "59ba65d4",
   "metadata": {},
   "source": [
    "###  2.Data loading and overview\n",
    "#### 2.1.import libraries\n",
    "#### These libraries will support data exploration, preprocessing, modeling, and evaluation:\n"
   ]
  },
  {
   "cell_type": "code",
   "execution_count": 55,
   "id": "dc64b89a",
   "metadata": {},
   "outputs": [],
   "source": [
    "import pandas as pd\n",
    "import numpy as np\n",
    "\n",
    "import matplotlib.pyplot as plt\n",
    "import seaborn as sns\n",
    "%matplotlib inline\n",
    "\n",
    "from sklearn.preprocessing import OneHotEncoder,LabelEncoder\n",
    "from sklearn.preprocessing import StandardScaler\n",
    "from sklearn.preprocessing import FunctionTransformer\n",
    "\n",
    "from sklearn.model_selection import train_test_split\n",
    "\n",
    "from sklearn.linear_model import LogisticRegression"
   ]
  },
  {
   "cell_type": "markdown",
   "id": "d0e553d0",
   "metadata": {},
   "source": [
    "#### 2.2 Load dataset"
   ]
  },
  {
   "cell_type": "code",
   "execution_count": 81,
   "id": "993c8d9e",
   "metadata": {},
   "outputs": [
    {
     "name": "stdout",
     "output_type": "stream",
     "text": [
      "Labels:\n"
     ]
    },
    {
     "data": {
      "text/html": [
       "<div>\n",
       "<style scoped>\n",
       "    .dataframe tbody tr th:only-of-type {\n",
       "        vertical-align: middle;\n",
       "    }\n",
       "\n",
       "    .dataframe tbody tr th {\n",
       "        vertical-align: top;\n",
       "    }\n",
       "\n",
       "    .dataframe thead th {\n",
       "        text-align: right;\n",
       "    }\n",
       "</style>\n",
       "<table border=\"1\" class=\"dataframe\">\n",
       "  <thead>\n",
       "    <tr style=\"text-align: right;\">\n",
       "      <th></th>\n",
       "      <th>id</th>\n",
       "      <th>status_group</th>\n",
       "    </tr>\n",
       "  </thead>\n",
       "  <tbody>\n",
       "    <tr>\n",
       "      <th>0</th>\n",
       "      <td>69572</td>\n",
       "      <td>functional</td>\n",
       "    </tr>\n",
       "    <tr>\n",
       "      <th>1</th>\n",
       "      <td>8776</td>\n",
       "      <td>functional</td>\n",
       "    </tr>\n",
       "    <tr>\n",
       "      <th>2</th>\n",
       "      <td>34310</td>\n",
       "      <td>functional</td>\n",
       "    </tr>\n",
       "    <tr>\n",
       "      <th>3</th>\n",
       "      <td>67743</td>\n",
       "      <td>non functional</td>\n",
       "    </tr>\n",
       "    <tr>\n",
       "      <th>4</th>\n",
       "      <td>19728</td>\n",
       "      <td>functional</td>\n",
       "    </tr>\n",
       "  </tbody>\n",
       "</table>\n",
       "</div>"
      ],
      "text/plain": [
       "      id    status_group\n",
       "0  69572      functional\n",
       "1   8776      functional\n",
       "2  34310      functional\n",
       "3  67743  non functional\n",
       "4  19728      functional"
      ]
     },
     "metadata": {},
     "output_type": "display_data"
    },
    {
     "name": "stdout",
     "output_type": "stream",
     "text": [
      "\n",
      "Values:\n"
     ]
    },
    {
     "data": {
      "text/html": [
       "<div>\n",
       "<style scoped>\n",
       "    .dataframe tbody tr th:only-of-type {\n",
       "        vertical-align: middle;\n",
       "    }\n",
       "\n",
       "    .dataframe tbody tr th {\n",
       "        vertical-align: top;\n",
       "    }\n",
       "\n",
       "    .dataframe thead th {\n",
       "        text-align: right;\n",
       "    }\n",
       "</style>\n",
       "<table border=\"1\" class=\"dataframe\">\n",
       "  <thead>\n",
       "    <tr style=\"text-align: right;\">\n",
       "      <th></th>\n",
       "      <th>id</th>\n",
       "      <th>amount_tsh</th>\n",
       "      <th>date_recorded</th>\n",
       "      <th>funder</th>\n",
       "      <th>gps_height</th>\n",
       "      <th>installer</th>\n",
       "      <th>longitude</th>\n",
       "      <th>latitude</th>\n",
       "      <th>wpt_name</th>\n",
       "      <th>num_private</th>\n",
       "      <th>...</th>\n",
       "      <th>payment_type</th>\n",
       "      <th>water_quality</th>\n",
       "      <th>quality_group</th>\n",
       "      <th>quantity</th>\n",
       "      <th>quantity_group</th>\n",
       "      <th>source</th>\n",
       "      <th>source_type</th>\n",
       "      <th>source_class</th>\n",
       "      <th>waterpoint_type</th>\n",
       "      <th>waterpoint_type_group</th>\n",
       "    </tr>\n",
       "  </thead>\n",
       "  <tbody>\n",
       "    <tr>\n",
       "      <th>0</th>\n",
       "      <td>69572</td>\n",
       "      <td>6000.0</td>\n",
       "      <td>2011-03-14</td>\n",
       "      <td>Roman</td>\n",
       "      <td>1390</td>\n",
       "      <td>Roman</td>\n",
       "      <td>34.938093</td>\n",
       "      <td>-9.856322</td>\n",
       "      <td>none</td>\n",
       "      <td>0</td>\n",
       "      <td>...</td>\n",
       "      <td>annually</td>\n",
       "      <td>soft</td>\n",
       "      <td>good</td>\n",
       "      <td>enough</td>\n",
       "      <td>enough</td>\n",
       "      <td>spring</td>\n",
       "      <td>spring</td>\n",
       "      <td>groundwater</td>\n",
       "      <td>communal standpipe</td>\n",
       "      <td>communal standpipe</td>\n",
       "    </tr>\n",
       "    <tr>\n",
       "      <th>1</th>\n",
       "      <td>8776</td>\n",
       "      <td>0.0</td>\n",
       "      <td>2013-03-06</td>\n",
       "      <td>Grumeti</td>\n",
       "      <td>1399</td>\n",
       "      <td>GRUMETI</td>\n",
       "      <td>34.698766</td>\n",
       "      <td>-2.147466</td>\n",
       "      <td>Zahanati</td>\n",
       "      <td>0</td>\n",
       "      <td>...</td>\n",
       "      <td>never pay</td>\n",
       "      <td>soft</td>\n",
       "      <td>good</td>\n",
       "      <td>insufficient</td>\n",
       "      <td>insufficient</td>\n",
       "      <td>rainwater harvesting</td>\n",
       "      <td>rainwater harvesting</td>\n",
       "      <td>surface</td>\n",
       "      <td>communal standpipe</td>\n",
       "      <td>communal standpipe</td>\n",
       "    </tr>\n",
       "    <tr>\n",
       "      <th>2</th>\n",
       "      <td>34310</td>\n",
       "      <td>25.0</td>\n",
       "      <td>2013-02-25</td>\n",
       "      <td>Lottery Club</td>\n",
       "      <td>686</td>\n",
       "      <td>World vision</td>\n",
       "      <td>37.460664</td>\n",
       "      <td>-3.821329</td>\n",
       "      <td>Kwa Mahundi</td>\n",
       "      <td>0</td>\n",
       "      <td>...</td>\n",
       "      <td>per bucket</td>\n",
       "      <td>soft</td>\n",
       "      <td>good</td>\n",
       "      <td>enough</td>\n",
       "      <td>enough</td>\n",
       "      <td>dam</td>\n",
       "      <td>dam</td>\n",
       "      <td>surface</td>\n",
       "      <td>communal standpipe multiple</td>\n",
       "      <td>communal standpipe</td>\n",
       "    </tr>\n",
       "    <tr>\n",
       "      <th>3</th>\n",
       "      <td>67743</td>\n",
       "      <td>0.0</td>\n",
       "      <td>2013-01-28</td>\n",
       "      <td>Unicef</td>\n",
       "      <td>263</td>\n",
       "      <td>UNICEF</td>\n",
       "      <td>38.486161</td>\n",
       "      <td>-11.155298</td>\n",
       "      <td>Zahanati Ya Nanyumbu</td>\n",
       "      <td>0</td>\n",
       "      <td>...</td>\n",
       "      <td>never pay</td>\n",
       "      <td>soft</td>\n",
       "      <td>good</td>\n",
       "      <td>dry</td>\n",
       "      <td>dry</td>\n",
       "      <td>machine dbh</td>\n",
       "      <td>borehole</td>\n",
       "      <td>groundwater</td>\n",
       "      <td>communal standpipe multiple</td>\n",
       "      <td>communal standpipe</td>\n",
       "    </tr>\n",
       "    <tr>\n",
       "      <th>4</th>\n",
       "      <td>19728</td>\n",
       "      <td>0.0</td>\n",
       "      <td>2011-07-13</td>\n",
       "      <td>Action In A</td>\n",
       "      <td>0</td>\n",
       "      <td>Artisan</td>\n",
       "      <td>31.130847</td>\n",
       "      <td>-1.825359</td>\n",
       "      <td>Shuleni</td>\n",
       "      <td>0</td>\n",
       "      <td>...</td>\n",
       "      <td>never pay</td>\n",
       "      <td>soft</td>\n",
       "      <td>good</td>\n",
       "      <td>seasonal</td>\n",
       "      <td>seasonal</td>\n",
       "      <td>rainwater harvesting</td>\n",
       "      <td>rainwater harvesting</td>\n",
       "      <td>surface</td>\n",
       "      <td>communal standpipe</td>\n",
       "      <td>communal standpipe</td>\n",
       "    </tr>\n",
       "  </tbody>\n",
       "</table>\n",
       "<p>5 rows × 40 columns</p>\n",
       "</div>"
      ],
      "text/plain": [
       "      id  amount_tsh date_recorded        funder  gps_height     installer  \\\n",
       "0  69572      6000.0    2011-03-14         Roman        1390         Roman   \n",
       "1   8776         0.0    2013-03-06       Grumeti        1399       GRUMETI   \n",
       "2  34310        25.0    2013-02-25  Lottery Club         686  World vision   \n",
       "3  67743         0.0    2013-01-28        Unicef         263        UNICEF   \n",
       "4  19728         0.0    2011-07-13   Action In A           0       Artisan   \n",
       "\n",
       "   longitude   latitude              wpt_name  num_private  ... payment_type  \\\n",
       "0  34.938093  -9.856322                  none            0  ...     annually   \n",
       "1  34.698766  -2.147466              Zahanati            0  ...    never pay   \n",
       "2  37.460664  -3.821329           Kwa Mahundi            0  ...   per bucket   \n",
       "3  38.486161 -11.155298  Zahanati Ya Nanyumbu            0  ...    never pay   \n",
       "4  31.130847  -1.825359               Shuleni            0  ...    never pay   \n",
       "\n",
       "  water_quality quality_group      quantity  quantity_group  \\\n",
       "0          soft          good        enough          enough   \n",
       "1          soft          good  insufficient    insufficient   \n",
       "2          soft          good        enough          enough   \n",
       "3          soft          good           dry             dry   \n",
       "4          soft          good      seasonal        seasonal   \n",
       "\n",
       "                 source           source_type  source_class  \\\n",
       "0                spring                spring   groundwater   \n",
       "1  rainwater harvesting  rainwater harvesting       surface   \n",
       "2                   dam                   dam       surface   \n",
       "3           machine dbh              borehole   groundwater   \n",
       "4  rainwater harvesting  rainwater harvesting       surface   \n",
       "\n",
       "               waterpoint_type waterpoint_type_group  \n",
       "0           communal standpipe    communal standpipe  \n",
       "1           communal standpipe    communal standpipe  \n",
       "2  communal standpipe multiple    communal standpipe  \n",
       "3  communal standpipe multiple    communal standpipe  \n",
       "4           communal standpipe    communal standpipe  \n",
       "\n",
       "[5 rows x 40 columns]"
      ]
     },
     "metadata": {},
     "output_type": "display_data"
    }
   ],
   "source": [
    "df_labels=pd.read_csv(\"Dataset/Training set labels.csv\")\n",
    "df_values=pd.read_csv(\"Dataset/Training set values.csv\")\n",
    "\n",
    "print(\"Labels:\")\n",
    "display(df_labels.head())\n",
    "\n",
    "print(\"\\nValues:\")\n",
    "display(df_values.head())"
   ]
  },
  {
   "cell_type": "code",
   "execution_count": 82,
   "id": "f31e3d21",
   "metadata": {},
   "outputs": [
    {
     "data": {
      "text/html": [
       "<div>\n",
       "<style scoped>\n",
       "    .dataframe tbody tr th:only-of-type {\n",
       "        vertical-align: middle;\n",
       "    }\n",
       "\n",
       "    .dataframe tbody tr th {\n",
       "        vertical-align: top;\n",
       "    }\n",
       "\n",
       "    .dataframe thead th {\n",
       "        text-align: right;\n",
       "    }\n",
       "</style>\n",
       "<table border=\"1\" class=\"dataframe\">\n",
       "  <thead>\n",
       "    <tr style=\"text-align: right;\">\n",
       "      <th></th>\n",
       "      <th>id</th>\n",
       "      <th>amount_tsh</th>\n",
       "      <th>date_recorded</th>\n",
       "      <th>funder</th>\n",
       "      <th>gps_height</th>\n",
       "      <th>installer</th>\n",
       "      <th>longitude</th>\n",
       "      <th>latitude</th>\n",
       "      <th>wpt_name</th>\n",
       "      <th>num_private</th>\n",
       "      <th>...</th>\n",
       "      <th>water_quality</th>\n",
       "      <th>quality_group</th>\n",
       "      <th>quantity</th>\n",
       "      <th>quantity_group</th>\n",
       "      <th>source</th>\n",
       "      <th>source_type</th>\n",
       "      <th>source_class</th>\n",
       "      <th>waterpoint_type</th>\n",
       "      <th>waterpoint_type_group</th>\n",
       "      <th>status_group</th>\n",
       "    </tr>\n",
       "  </thead>\n",
       "  <tbody>\n",
       "    <tr>\n",
       "      <th>0</th>\n",
       "      <td>69572</td>\n",
       "      <td>6000.0</td>\n",
       "      <td>2011-03-14</td>\n",
       "      <td>Roman</td>\n",
       "      <td>1390</td>\n",
       "      <td>Roman</td>\n",
       "      <td>34.938093</td>\n",
       "      <td>-9.856322</td>\n",
       "      <td>none</td>\n",
       "      <td>0</td>\n",
       "      <td>...</td>\n",
       "      <td>soft</td>\n",
       "      <td>good</td>\n",
       "      <td>enough</td>\n",
       "      <td>enough</td>\n",
       "      <td>spring</td>\n",
       "      <td>spring</td>\n",
       "      <td>groundwater</td>\n",
       "      <td>communal standpipe</td>\n",
       "      <td>communal standpipe</td>\n",
       "      <td>functional</td>\n",
       "    </tr>\n",
       "    <tr>\n",
       "      <th>1</th>\n",
       "      <td>8776</td>\n",
       "      <td>0.0</td>\n",
       "      <td>2013-03-06</td>\n",
       "      <td>Grumeti</td>\n",
       "      <td>1399</td>\n",
       "      <td>GRUMETI</td>\n",
       "      <td>34.698766</td>\n",
       "      <td>-2.147466</td>\n",
       "      <td>Zahanati</td>\n",
       "      <td>0</td>\n",
       "      <td>...</td>\n",
       "      <td>soft</td>\n",
       "      <td>good</td>\n",
       "      <td>insufficient</td>\n",
       "      <td>insufficient</td>\n",
       "      <td>rainwater harvesting</td>\n",
       "      <td>rainwater harvesting</td>\n",
       "      <td>surface</td>\n",
       "      <td>communal standpipe</td>\n",
       "      <td>communal standpipe</td>\n",
       "      <td>functional</td>\n",
       "    </tr>\n",
       "    <tr>\n",
       "      <th>2</th>\n",
       "      <td>34310</td>\n",
       "      <td>25.0</td>\n",
       "      <td>2013-02-25</td>\n",
       "      <td>Lottery Club</td>\n",
       "      <td>686</td>\n",
       "      <td>World vision</td>\n",
       "      <td>37.460664</td>\n",
       "      <td>-3.821329</td>\n",
       "      <td>Kwa Mahundi</td>\n",
       "      <td>0</td>\n",
       "      <td>...</td>\n",
       "      <td>soft</td>\n",
       "      <td>good</td>\n",
       "      <td>enough</td>\n",
       "      <td>enough</td>\n",
       "      <td>dam</td>\n",
       "      <td>dam</td>\n",
       "      <td>surface</td>\n",
       "      <td>communal standpipe multiple</td>\n",
       "      <td>communal standpipe</td>\n",
       "      <td>functional</td>\n",
       "    </tr>\n",
       "    <tr>\n",
       "      <th>3</th>\n",
       "      <td>67743</td>\n",
       "      <td>0.0</td>\n",
       "      <td>2013-01-28</td>\n",
       "      <td>Unicef</td>\n",
       "      <td>263</td>\n",
       "      <td>UNICEF</td>\n",
       "      <td>38.486161</td>\n",
       "      <td>-11.155298</td>\n",
       "      <td>Zahanati Ya Nanyumbu</td>\n",
       "      <td>0</td>\n",
       "      <td>...</td>\n",
       "      <td>soft</td>\n",
       "      <td>good</td>\n",
       "      <td>dry</td>\n",
       "      <td>dry</td>\n",
       "      <td>machine dbh</td>\n",
       "      <td>borehole</td>\n",
       "      <td>groundwater</td>\n",
       "      <td>communal standpipe multiple</td>\n",
       "      <td>communal standpipe</td>\n",
       "      <td>non functional</td>\n",
       "    </tr>\n",
       "    <tr>\n",
       "      <th>4</th>\n",
       "      <td>19728</td>\n",
       "      <td>0.0</td>\n",
       "      <td>2011-07-13</td>\n",
       "      <td>Action In A</td>\n",
       "      <td>0</td>\n",
       "      <td>Artisan</td>\n",
       "      <td>31.130847</td>\n",
       "      <td>-1.825359</td>\n",
       "      <td>Shuleni</td>\n",
       "      <td>0</td>\n",
       "      <td>...</td>\n",
       "      <td>soft</td>\n",
       "      <td>good</td>\n",
       "      <td>seasonal</td>\n",
       "      <td>seasonal</td>\n",
       "      <td>rainwater harvesting</td>\n",
       "      <td>rainwater harvesting</td>\n",
       "      <td>surface</td>\n",
       "      <td>communal standpipe</td>\n",
       "      <td>communal standpipe</td>\n",
       "      <td>functional</td>\n",
       "    </tr>\n",
       "  </tbody>\n",
       "</table>\n",
       "<p>5 rows × 41 columns</p>\n",
       "</div>"
      ],
      "text/plain": [
       "      id  amount_tsh date_recorded        funder  gps_height     installer  \\\n",
       "0  69572      6000.0    2011-03-14         Roman        1390         Roman   \n",
       "1   8776         0.0    2013-03-06       Grumeti        1399       GRUMETI   \n",
       "2  34310        25.0    2013-02-25  Lottery Club         686  World vision   \n",
       "3  67743         0.0    2013-01-28        Unicef         263        UNICEF   \n",
       "4  19728         0.0    2011-07-13   Action In A           0       Artisan   \n",
       "\n",
       "   longitude   latitude              wpt_name  num_private  ... water_quality  \\\n",
       "0  34.938093  -9.856322                  none            0  ...          soft   \n",
       "1  34.698766  -2.147466              Zahanati            0  ...          soft   \n",
       "2  37.460664  -3.821329           Kwa Mahundi            0  ...          soft   \n",
       "3  38.486161 -11.155298  Zahanati Ya Nanyumbu            0  ...          soft   \n",
       "4  31.130847  -1.825359               Shuleni            0  ...          soft   \n",
       "\n",
       "  quality_group      quantity  quantity_group                source  \\\n",
       "0          good        enough          enough                spring   \n",
       "1          good  insufficient    insufficient  rainwater harvesting   \n",
       "2          good        enough          enough                   dam   \n",
       "3          good           dry             dry           machine dbh   \n",
       "4          good      seasonal        seasonal  rainwater harvesting   \n",
       "\n",
       "            source_type source_class              waterpoint_type  \\\n",
       "0                spring  groundwater           communal standpipe   \n",
       "1  rainwater harvesting      surface           communal standpipe   \n",
       "2                   dam      surface  communal standpipe multiple   \n",
       "3              borehole  groundwater  communal standpipe multiple   \n",
       "4  rainwater harvesting      surface           communal standpipe   \n",
       "\n",
       "  waterpoint_type_group    status_group  \n",
       "0    communal standpipe      functional  \n",
       "1    communal standpipe      functional  \n",
       "2    communal standpipe      functional  \n",
       "3    communal standpipe  non functional  \n",
       "4    communal standpipe      functional  \n",
       "\n",
       "[5 rows x 41 columns]"
      ]
     },
     "metadata": {},
     "output_type": "display_data"
    },
    {
     "name": "stdout",
     "output_type": "stream",
     "text": [
      "Combined shape: (59400, 41)\n"
     ]
    }
   ],
   "source": [
    "#merge the two datasets using id\n",
    "df = df_values.merge(df_labels, on='id')\n",
    "display(df.head())\n",
    "print(\"Combined shape:\", df.shape)\n"
   ]
  },
  {
   "cell_type": "code",
   "execution_count": 83,
   "id": "f7e25415",
   "metadata": {},
   "outputs": [
    {
     "data": {
      "text/plain": [
       "Index(['id', 'amount_tsh', 'date_recorded', 'funder', 'gps_height',\n",
       "       'installer', 'longitude', 'latitude', 'wpt_name', 'num_private',\n",
       "       'basin', 'subvillage', 'region', 'region_code', 'district_code', 'lga',\n",
       "       'ward', 'population', 'public_meeting', 'recorded_by',\n",
       "       'scheme_management', 'scheme_name', 'permit', 'construction_year',\n",
       "       'extraction_type', 'extraction_type_group', 'extraction_type_class',\n",
       "       'management', 'management_group', 'payment', 'payment_type',\n",
       "       'water_quality', 'quality_group', 'quantity', 'quantity_group',\n",
       "       'source', 'source_type', 'source_class', 'waterpoint_type',\n",
       "       'waterpoint_type_group', 'status_group'],\n",
       "      dtype='object')"
      ]
     },
     "execution_count": 83,
     "metadata": {},
     "output_type": "execute_result"
    }
   ],
   "source": [
    "#checking columns in our data\n",
    "df.columns\n"
   ]
  },
  {
   "cell_type": "code",
   "execution_count": 59,
   "id": "7d1772e2",
   "metadata": {},
   "outputs": [
    {
     "name": "stdout",
     "output_type": "stream",
     "text": [
      "<class 'pandas.core.frame.DataFrame'>\n",
      "Int64Index: 59400 entries, 0 to 59399\n",
      "Data columns (total 41 columns):\n",
      " #   Column                 Non-Null Count  Dtype  \n",
      "---  ------                 --------------  -----  \n",
      " 0   id                     59400 non-null  int64  \n",
      " 1   amount_tsh             59400 non-null  float64\n",
      " 2   date_recorded          59400 non-null  object \n",
      " 3   funder                 55765 non-null  object \n",
      " 4   gps_height             59400 non-null  int64  \n",
      " 5   installer              55745 non-null  object \n",
      " 6   longitude              59400 non-null  float64\n",
      " 7   latitude               59400 non-null  float64\n",
      " 8   wpt_name               59400 non-null  object \n",
      " 9   num_private            59400 non-null  int64  \n",
      " 10  basin                  59400 non-null  object \n",
      " 11  subvillage             59029 non-null  object \n",
      " 12  region                 59400 non-null  object \n",
      " 13  region_code            59400 non-null  int64  \n",
      " 14  district_code          59400 non-null  int64  \n",
      " 15  lga                    59400 non-null  object \n",
      " 16  ward                   59400 non-null  object \n",
      " 17  population             59400 non-null  int64  \n",
      " 18  public_meeting         56066 non-null  object \n",
      " 19  recorded_by            59400 non-null  object \n",
      " 20  scheme_management      55523 non-null  object \n",
      " 21  scheme_name            31234 non-null  object \n",
      " 22  permit                 56344 non-null  object \n",
      " 23  construction_year      59400 non-null  int64  \n",
      " 24  extraction_type        59400 non-null  object \n",
      " 25  extraction_type_group  59400 non-null  object \n",
      " 26  extraction_type_class  59400 non-null  object \n",
      " 27  management             59400 non-null  object \n",
      " 28  management_group       59400 non-null  object \n",
      " 29  payment                59400 non-null  object \n",
      " 30  payment_type           59400 non-null  object \n",
      " 31  water_quality          59400 non-null  object \n",
      " 32  quality_group          59400 non-null  object \n",
      " 33  quantity               59400 non-null  object \n",
      " 34  quantity_group         59400 non-null  object \n",
      " 35  source                 59400 non-null  object \n",
      " 36  source_type            59400 non-null  object \n",
      " 37  source_class           59400 non-null  object \n",
      " 38  waterpoint_type        59400 non-null  object \n",
      " 39  waterpoint_type_group  59400 non-null  object \n",
      " 40  status_group           59400 non-null  object \n",
      "dtypes: float64(3), int64(7), object(31)\n",
      "memory usage: 19.0+ MB\n"
     ]
    }
   ],
   "source": [
    "#get data type of columns and non-null count\n",
    "df.info()"
   ]
  },
  {
   "cell_type": "code",
   "execution_count": 84,
   "id": "0bccc6ed",
   "metadata": {},
   "outputs": [
    {
     "name": "stdout",
     "output_type": "stream",
     "text": [
      "Our dataset has 10 numeric columns\n",
      "and 31 categorical columns\n"
     ]
    }
   ],
   "source": [
    "def data_types(data):\n",
    "\n",
    "    print(\"Our dataset has\", len( data.select_dtypes(include='number').columns),\n",
    "                \"numeric columns\")\n",
    "    \n",
    "    print(\"and\", len(data.select_dtypes(include='object').columns),\n",
    "          \"categorical columns\")\n",
    "data_types(df) "
   ]
  },
  {
   "cell_type": "markdown",
   "id": "74207a94",
   "metadata": {},
   "source": [
    "### 3.1 Data cleaning and Preprocessing\n"
   ]
  },
  {
   "cell_type": "markdown",
   "id": "0df300ab",
   "metadata": {},
   "source": [
    "#### a) Duplicates"
   ]
  },
  {
   "cell_type": "code",
   "execution_count": 85,
   "id": "debb3627",
   "metadata": {},
   "outputs": [
    {
     "name": "stdout",
     "output_type": "stream",
     "text": [
      "Our Dataset has no Duplicates\n"
     ]
    }
   ],
   "source": [
    "#checking duplicates using a function\n",
    "duplicates = []\n",
    "\n",
    "def check_duplicates(data):\n",
    "\n",
    "    \"\"\"Function that iterates through the rows of our dataset to check whether they are duplicated or not\"\"\"\n",
    "    \n",
    "    for i in data.duplicated():\n",
    "        duplicates.append(i)\n",
    "    duplicates_values = set(duplicates)\n",
    "    if(len(duplicates_values) == 1):\n",
    "        print('Our Dataset has no Duplicates')\n",
    "\n",
    "    else:\n",
    "        duplicates_percentage = np.round(((sum(duplicates)/len(data)) * 100 ), 2)\n",
    "        print(f'Duplicated rows constitute of {duplicates_percentage} % of our dataset')\n",
    "        \n",
    "\n",
    "check_duplicates(df)"
   ]
  },
  {
   "cell_type": "markdown",
   "id": "a3ed71e4",
   "metadata": {},
   "source": [
    "#### b) Missing values"
   ]
  },
  {
   "cell_type": "code",
   "execution_count": 86,
   "id": "4bbbb80a",
   "metadata": {},
   "outputs": [
    {
     "name": "stdout",
     "output_type": "stream",
     "text": [
      "Missing values in dataset:\n"
     ]
    },
    {
     "data": {
      "text/html": [
       "<div>\n",
       "<style scoped>\n",
       "    .dataframe tbody tr th:only-of-type {\n",
       "        vertical-align: middle;\n",
       "    }\n",
       "\n",
       "    .dataframe tbody tr th {\n",
       "        vertical-align: top;\n",
       "    }\n",
       "\n",
       "    .dataframe thead th {\n",
       "        text-align: right;\n",
       "    }\n",
       "</style>\n",
       "<table border=\"1\" class=\"dataframe\">\n",
       "  <thead>\n",
       "    <tr style=\"text-align: right;\">\n",
       "      <th></th>\n",
       "      <th>Missing Values</th>\n",
       "      <th>Percentage</th>\n",
       "    </tr>\n",
       "  </thead>\n",
       "  <tbody>\n",
       "    <tr>\n",
       "      <th>scheme_name</th>\n",
       "      <td>28166</td>\n",
       "      <td>47.417508</td>\n",
       "    </tr>\n",
       "    <tr>\n",
       "      <th>scheme_management</th>\n",
       "      <td>3877</td>\n",
       "      <td>6.526936</td>\n",
       "    </tr>\n",
       "    <tr>\n",
       "      <th>installer</th>\n",
       "      <td>3655</td>\n",
       "      <td>6.153199</td>\n",
       "    </tr>\n",
       "    <tr>\n",
       "      <th>funder</th>\n",
       "      <td>3635</td>\n",
       "      <td>6.119529</td>\n",
       "    </tr>\n",
       "    <tr>\n",
       "      <th>public_meeting</th>\n",
       "      <td>3334</td>\n",
       "      <td>5.612795</td>\n",
       "    </tr>\n",
       "    <tr>\n",
       "      <th>permit</th>\n",
       "      <td>3056</td>\n",
       "      <td>5.144781</td>\n",
       "    </tr>\n",
       "    <tr>\n",
       "      <th>subvillage</th>\n",
       "      <td>371</td>\n",
       "      <td>0.624579</td>\n",
       "    </tr>\n",
       "  </tbody>\n",
       "</table>\n",
       "</div>"
      ],
      "text/plain": [
       "                   Missing Values  Percentage\n",
       "scheme_name                 28166   47.417508\n",
       "scheme_management            3877    6.526936\n",
       "installer                    3655    6.153199\n",
       "funder                       3635    6.119529\n",
       "public_meeting               3334    5.612795\n",
       "permit                       3056    5.144781\n",
       "subvillage                    371    0.624579"
      ]
     },
     "metadata": {},
     "output_type": "display_data"
    }
   ],
   "source": [
    "#checking missing values\n",
    "# Get total and percentage of missing values\n",
    "missing_values = df.isnull().sum()\n",
    "missing_percentage = (missing_values / len(df)) * 100\n",
    "missing_df = pd.DataFrame({'Missing Values': missing_values, 'Percentage': missing_percentage})\n",
    "missing_df = missing_df[missing_df['Missing Values'] > 0].sort_values(by='Percentage', ascending=False)\n",
    "\n",
    "print(\"Missing values in dataset:\")\n",
    "display(missing_df)\n",
    "\n"
   ]
  },
  {
   "cell_type": "markdown",
   "id": "78330f18",
   "metadata": {},
   "source": [
    "### Scheme_name and Scheme Management\n",
    "#### The main objective of this project is to analyze data in order to predict whether water wells in Tanzania are functional or non-functional. The features scheme_name and scheme_management provide information about the names of water supply schemes and their managing entities.However, these features are not expected to be strong predictors of well functionality.\n",
    "#### In addition, both columns have approximately 47% missing values, which is nearly half of the dataset. Imputing these missing values would not only be difficult but also unlikely to add significant predictive power to the model.\n",
    "#### Therefore we will drop them."
   ]
  },
  {
   "cell_type": "code",
   "execution_count": 87,
   "id": "abd9eb1f",
   "metadata": {},
   "outputs": [],
   "source": [
    "#dropping scheme name & scheme management.\n",
    "df.drop(['scheme_name','scheme_management'], axis=1,inplace=True)"
   ]
  },
  {
   "cell_type": "code",
   "execution_count": 88,
   "id": "49063dc8",
   "metadata": {},
   "outputs": [
    {
     "data": {
      "text/plain": [
       "(59400, 39)"
      ]
     },
     "execution_count": 88,
     "metadata": {},
     "output_type": "execute_result"
    }
   ],
   "source": [
    "#preview shape after dropping\n",
    "df.shape"
   ]
  },
  {
   "cell_type": "markdown",
   "id": "ea6fcba0",
   "metadata": {},
   "source": [
    "### Funder\n",
    "#### The funder feature contains the names of organizations or individuals who contributed to the installation of the wells, which could offer valuable insights for future partnerships and resource allocation.\n",
    "#### However, this column has approximately 6% missing values. Since the proportion is relatively small and the information could be meaningful, we will drop only the rows with missing values in this column."
   ]
  },
  {
   "cell_type": "markdown",
   "id": "ef7e067a",
   "metadata": {},
   "source": [
    "### Installer\n",
    "#### This refers to contractors who are installing the wells.This would contribute much to our stakeholder on the best contractors to work with.\n",
    "#### The  percentage of the missing values are not much ,we will therefore drop the rows with the missing values only."
   ]
  },
  {
   "cell_type": "markdown",
   "id": "efaa2486",
   "metadata": {},
   "source": [
    "### Public Meeting\n",
    "#### Public meetings are a way of the community to come together and raise issues of concern. We will also just drop missing values of the column."
   ]
  },
  {
   "cell_type": "code",
   "execution_count": 89,
   "id": "6e9be7c9",
   "metadata": {},
   "outputs": [],
   "source": [
    "#drop missing values in funder,installer,public meeting\n",
    "df = df.dropna(subset=['funder', 'installer', 'public_meeting'])"
   ]
  },
  {
   "cell_type": "code",
   "execution_count": 90,
   "id": "c0765f86",
   "metadata": {},
   "outputs": [
    {
     "data": {
      "text/plain": [
       "(52576, 39)"
      ]
     },
     "execution_count": 90,
     "metadata": {},
     "output_type": "execute_result"
    }
   ],
   "source": [
    "#preview shape\n",
    "df.shape"
   ]
  },
  {
   "cell_type": "markdown",
   "id": "de4f7719",
   "metadata": {},
   "source": []
  },
  {
   "cell_type": "markdown",
   "id": "1b19a7d0",
   "metadata": {},
   "source": [
    "## 4.Exploratory Data Analysis (EDA)"
   ]
  },
  {
   "cell_type": "markdown",
   "id": "3edd4144",
   "metadata": {},
   "source": [
    "### 4.1 Binary Target Variable Creation and Class Distribution\n",
    "#### To simplify the prediction task, have converted the original status_group target variable into a binary classification problem as per the objectives. Wells labeled as \"functional\" remain as is, while those labeled as \"needs_repair\" or \"non-functional\" were combined into a single \"needs_attention\" class."
   ]
  },
  {
   "cell_type": "code",
   "execution_count": 91,
   "id": "07aba4ba",
   "metadata": {},
   "outputs": [],
   "source": [
    "# Create binary target variable\n",
    "df['status_binary'] = df['status_group'].apply(lambda x: 'functional' if x == 'functional' else 'needs_attention')\n",
    "\n",
    "\n"
   ]
  },
  {
   "cell_type": "markdown",
   "id": "3abbcf26",
   "metadata": {},
   "source": [
    "#### Class Distribution"
   ]
  },
  {
   "cell_type": "code",
   "execution_count": 92,
   "id": "b3d5f095",
   "metadata": {},
   "outputs": [
    {
     "name": "stdout",
     "output_type": "stream",
     "text": [
      "Number of wells per class:\n",
      "functional         28653\n",
      "needs_attention    23923\n",
      "Name: status_binary, dtype: int64\n",
      "\n",
      "Percentage distribution per class:\n",
      "functional         54.5\n",
      "needs_attention    45.5\n",
      "Name: status_binary, dtype: float64\n"
     ]
    },
    {
     "data": {
      "image/png": "[encoded data removed]",
      "text/plain": [
       "<Figure size 432x288 with 1 Axes>"
      ]
     },
     "metadata": {
      "needs_background": "light"
     },
     "output_type": "display_data"
    }
   ],
   "source": [
    "# Count how many rows in each class\n",
    "class_counts = df['status_binary'].value_counts()\n",
    "print(\"Number of wells per class:\")\n",
    "print(class_counts)\n",
    "\n",
    "# Display the proportion (percentage) per class\n",
    "class_proportions = df['status_binary'].value_counts(normalize=True) * 100\n",
    "print(\"\\nPercentage distribution per class:\")\n",
    "print(class_proportions.round(2))\n",
    "\n",
    "# Plot the class distribution\n",
    "class_counts.plot(kind='bar', color=['green', 'red'], title='Binary Target Class Distribution')\n",
    "plt.xlabel('Well Status')\n",
    "plt.ylabel('Number of Wells')\n",
    "plt.xticks(rotation=0)\n",
    "plt.show()"
   ]
  },
  {
   "cell_type": "markdown",
   "id": "7ba06c1d",
   "metadata": {},
   "source": [
    "#### The dataset is fairly balanced with respect to the binary target classes:This shows that:\n",
    "#### About 54.5% of wells are functional\n",
    "#### About 45.5% need attention\n",
    "#### This near-even split ensures that our model will have sufficient examples from both classes to learn meaningful patterns, reducing the risk of bias towards the majority class."
   ]
  },
  {
   "cell_type": "markdown",
   "id": "f72bade7",
   "metadata": {},
   "source": [
    "### 4.2 **Univariate Analysis (Categorical Features)**\n",
    "#### Exploring key categorical variables to understand their distributions."
   ]
  },
  {
   "cell_type": "code",
   "execution_count": 93,
   "id": "15645f5c",
   "metadata": {},
   "outputs": [
    {
     "data": {
      "image/png": "[encoded data removed]",
      "text/plain": [
       "<Figure size 1008x1080 with 6 Axes>"
      ]
     },
     "metadata": {
      "needs_background": "light"
     },
     "output_type": "display_data"
    }
   ],
   "source": [
    "# visualizing Catogorical variables\n",
    "# Drop ID column\n",
    "if 'id' in df.columns:\n",
    "    df = df.drop(columns=['id'])\n",
    "\n",
    "# Categorical columns to visualize\n",
    "categorical_cols = ['funder', 'installer', 'payment_type', 'water_quality', 'source_type']\n",
    "\n",
    "# Setup the subplot grid\n",
    "num_plots = len(categorical_cols)\n",
    "cols = 2  \n",
    "rows = (num_plots + cols - 1) // cols\n",
    "fig, axes = plt.subplots(rows, cols, figsize=(14, 5 * rows))\n",
    "axes = axes.flatten()  # Flatten to 1D array for easy indexing\n",
    "\n",
    "for i, col in enumerate(categorical_cols):\n",
    "    top10 = df[col].value_counts().iloc[:10].index\n",
    "    sns.countplot(data=df, x=col, order=top10, ax=axes[i], palette='Set2')\n",
    "    axes[i].set_title(f'Distribution of {col}')\n",
    "    axes[i].set_xlabel(\"\")\n",
    "    axes[i].tick_params(axis='x', rotation=45)\n",
    "plt.tight_layout()\n",
    "plt.show()"
   ]
  },
  {
   "cell_type": "markdown",
   "id": "077f3da6",
   "metadata": {},
   "source": [
    "#### From the visualization of the categorical columns,it is clear that:\n",
    "#### - **Funder:** Government of Tanzania funds the majority of wells.\n",
    "#### - **Installer:** DWE is the most frequent installer — their wells' performance may be significant.\n",
    "#### - **Payment Type:** Most wells are community-funded (free), suggesting non-commercial purpose.\n",
    "#### - **Water Quality:** Majority use soft water relevant for assessing water safety.\n",
    "#### - **Source Type:** Shallow wells, springs, and boreholes dominate, potentially influencing functionality.\n"
   ]
  },
  {
   "cell_type": "markdown",
   "id": "129a3580",
   "metadata": {},
   "source": [
    "### 4.3 Distribution of Numerical values\n",
    "###  Checking outliers "
   ]
  },
  {
   "cell_type": "code",
   "execution_count": 94,
   "id": "c6c80d51",
   "metadata": {},
   "outputs": [
    {
     "name": "stdout",
     "output_type": "stream",
     "text": [
      "Column: amount_tsh\n",
      "       amount_tsh\n",
      "0          6000.0\n",
      "11          200.0\n",
      "16          500.0\n",
      "19          500.0\n",
      "20          200.0\n",
      "...           ...\n",
      "59378       500.0\n",
      "59380      6000.0\n",
      "59385       500.0\n",
      "59394       500.0\n",
      "59396      4700.0\n",
      "\n",
      "[10771 rows x 1 columns]\n",
      "--------------------------------------------------\n",
      "Column: gps_height\n",
      "No outliers found.\n",
      "--------------------------------------------------\n",
      "Column: longitude\n",
      "       longitude\n",
      "53           0.0\n",
      "168          0.0\n",
      "253          0.0\n",
      "256          0.0\n",
      "285          0.0\n",
      "...          ...\n",
      "59158        0.0\n",
      "59162        0.0\n",
      "59189        0.0\n",
      "59295        0.0\n",
      "59374        0.0\n",
      "\n",
      "[1444 rows x 1 columns]\n",
      "--------------------------------------------------\n",
      "Column: latitude\n",
      "No outliers found.\n",
      "--------------------------------------------------\n",
      "Column: num_private\n",
      "       num_private\n",
      "469             39\n",
      "476              5\n",
      "519             45\n",
      "527              6\n",
      "608              3\n",
      "...            ...\n",
      "58924            6\n",
      "58943            4\n",
      "58974          120\n",
      "59045           34\n",
      "59125           41\n",
      "\n",
      "[724 rows x 1 columns]\n",
      "--------------------------------------------------\n",
      "Column: region_code\n",
      "       region_code\n",
      "3               90\n",
      "10              60\n",
      "26              80\n",
      "46              90\n",
      "91              80\n",
      "...            ...\n",
      "59288           90\n",
      "59297           80\n",
      "59320           99\n",
      "59323           60\n",
      "59383           80\n",
      "\n",
      "[3276 rows x 1 columns]\n",
      "--------------------------------------------------\n",
      "Column: district_code\n",
      "       district_code\n",
      "3                 63\n",
      "10                43\n",
      "26                23\n",
      "46                33\n",
      "91                53\n",
      "...              ...\n",
      "59288             33\n",
      "59297             23\n",
      "59323             43\n",
      "59383             62\n",
      "59384             30\n",
      "\n",
      "[3860 rows x 1 columns]\n",
      "--------------------------------------------------\n",
      "Column: population\n",
      "       population\n",
      "78            900\n",
      "95            950\n",
      "96           1430\n",
      "117           804\n",
      "118           600\n",
      "...           ...\n",
      "59337         788\n",
      "59375         609\n",
      "59383         800\n",
      "59386        1000\n",
      "59389        1500\n",
      "\n",
      "[3586 rows x 1 columns]\n",
      "--------------------------------------------------\n",
      "Column: construction_year\n",
      "No outliers found.\n",
      "--------------------------------------------------\n"
     ]
    }
   ],
   "source": [
    "#checking outliers in numerical data using Interquartile range\n",
    "#select numerical columns only\n",
    "numerical_data=df.select_dtypes(include='number')\n",
    "\n",
    "\n",
    "for col in numerical_data.columns:\n",
    "    Q1 = numerical_data[col].quantile(0.25)\n",
    "    Q3 = numerical_data[col].quantile(0.75)\n",
    "    IQR = Q3 - Q1\n",
    "\n",
    "    # Calculate bounds for outliers\n",
    "    lower_bound = Q1 - 1.5 * IQR\n",
    "    upper_bound = Q3 + 1.5 * IQR\n",
    "\n",
    "    # Extract outlier rows\n",
    "    outliers = df[(numerical_data[col] < lower_bound) | (numerical_data[col] > upper_bound)]\n",
    "\n",
    "    print(f\"Column: {col}\")\n",
    "    if not outliers.empty:\n",
    "        print(outliers[[col]])\n",
    "    else:\n",
    "        print(\"No outliers found.\")\n",
    "    print(\"-\" * 50)"
   ]
  },
  {
   "cell_type": "code",
   "execution_count": 95,
   "id": "d8545a60",
   "metadata": {},
   "outputs": [
    {
     "data": {
      "image/png": "[encoded data removed]",
      "text/plain": [
       "<Figure size 1440x720 with 8 Axes>"
      ]
     },
     "metadata": {
      "needs_background": "light"
     },
     "output_type": "display_data"
    }
   ],
   "source": [
    "#Visualizating the outliers in our numerical data\n",
    "def plt_boxplots(data,cols):\n",
    "    fig, axes =plt.subplots(2,4, figsize=(20,10))\n",
    "    axes=axes.ravel()\n",
    "    \n",
    "\n",
    "    colors=['black','skyblue','green','blue','black','purple','pink','brown','gray']\n",
    "\n",
    "    for i,col in enumerate(cols[:8]):\n",
    "        # convert the x-axis variable to a numeric data type\n",
    "        \n",
    "        data[col] = data[col].astype(float)\n",
    "        sns.boxplot(x=data[col], ax=axes[i], color=colors[i])\n",
    "        \n",
    "        axes[i].set_title(col)\n",
    "    plt.tight_layout()\n",
    "cols = df.select_dtypes(include='number').columns\n",
    "\n",
    "plt_boxplots(df, cols)\n",
    "\n"
   ]
  },
  {
   "cell_type": "markdown",
   "id": "45ff7706",
   "metadata": {},
   "source": [
    "##### **Amount_tsh**-Highly skewed with many extreme outliers on the right.Most of the data concentrated near zero.outliers to be handled or use log transformation.\n",
    "##### **gps height**-More symmetric distribution, but still shows some right-side outliers.\n",
    "##### **construction year**-Relatively well-distributed with no strong outliers.Appears normally distributed with a peak near a central value.\n",
    "##### **Population**-Very right-skewed — many outliers in high population areas.Most wells serve a small population, with a few outliers serving large communities.\n",
    "##### **num_plate**-Highly skewed and sparse — almost all values are 0 or low.Presence of extreme outliers might be a low-importance feature.\n",
    "##### **Region code** and **district code**-Both appear more categorical than numeric.to be ploted as barplot.\n",
    "\n"
   ]
  },
  {
   "cell_type": "markdown",
   "id": "cb8b640b",
   "metadata": {},
   "source": [
    "#### 4.3b Irrelevant columns\n",
    "##### The following columns appear not to have relevant infomation towards our project,we will therefore  drop them:(**Permit,Subvillage,wpt_name,region_code,district_code,iga, ward,recorded_by and date_recorded**)\n"
   ]
  },
  {
   "cell_type": "code",
   "execution_count": 101,
   "id": "83e4b525",
   "metadata": {},
   "outputs": [
    {
     "name": "stdout",
     "output_type": "stream",
     "text": [
      "Dropped columns: ['num_private']\n",
      "Current shape: (52576, 29)\n"
     ]
    }
   ],
   "source": [
    "irrelevant_columns = ['permit', 'subvillage', 'wpt_name', 'region_code', 'district_code',\n",
    "                      'lga', 'ward', 'recorded_by', 'date_recorded','num_private']\n",
    "\n",
    "# Keep only those columns that are actually still in the DataFrame\n",
    "columns_to_drop = [col for col in irrelevant_columns if col in df.columns]\n",
    "\n",
    "# Drop the invalid columns\n",
    "df.drop(columns=columns_to_drop, inplace=True)\n",
    "\n",
    "print(f\"Dropped columns: {columns_to_drop}\")\n",
    "print(f\"Current shape: {df.shape}\")"
   ]
  },
  {
   "cell_type": "markdown",
   "id": "fd42c374",
   "metadata": {},
   "source": [
    "### 4.4 Relationship between Target variable and features"
   ]
  },
  {
   "cell_type": "markdown",
   "id": "942317b1",
   "metadata": {},
   "source": [
    "#### Categorical vs Target variable"
   ]
  },
  {
   "cell_type": "code",
   "execution_count": 99,
   "id": "66608195",
   "metadata": {},
   "outputs": [
    {
     "data": {
      "image/png": "[encoded data removed]",
      "text/plain": [
       "<Figure size 1152x1080 with 6 Axes>"
      ]
     },
     "metadata": {
      "needs_background": "light"
     },
     "output_type": "display_data"
    }
   ],
   "source": [
    "\n",
    "#Layout\n",
    "n_cols =2\n",
    "n_rows=(len(categorical_cols)+n_cols-1) // n_cols\n",
    "\n",
    "# create figure\n",
    "fig,axes=plt.subplots(n_rows, n_cols,figsize=(16,5 * n_rows))\n",
    "axes=axes.flatten()\n",
    "\n",
    "for i,col in enumerate(categorical_cols):\n",
    "    top10 = df[col].value_counts().iloc[:10].index\n",
    "    sns.countplot(data=df, x=col, hue='status_binary', order=top10, ax=axes[i], palette='Set2')\n",
    "    axes[i].set_title(f'{col} vs Well Status')\n",
    "    axes[i].tick_params(axis='x', rotation=45)\n",
    "    axes[i].set_xlabel('')\n",
    "    axes[i].set_ylabel('Count')\n",
    "plt.tight_layout()\n",
    "plt.show()"
   ]
  },
  {
   "cell_type": "markdown",
   "id": "e07bae97",
   "metadata": {},
   "source": [
    "#### From the visualization ,relationship between categorical vs target is as follows:\n",
    "#### **Funder vs status** -Government of Tanzania funds the largest number of wells, but a higher portion of these wells need attention than are functional. Danida, Rwssp, and World Vision show a more balanced distribution, with relatively more functional wellsHesawa, Kkkt, and World Bank have a higher number of wells needing attention.\n",
    "#### **Installer vs status**-DWE is by far the most common installer, with a large number of wells both functional and needing attention.\n",
    "#### **Payment vs status**-\"Never pay\" is the most common and has high failure.\"Per bucket\" and \"monthly\" payments align more with functional wells, possibly reflecting better maintenance via community investment.\n",
    "### **water Quality vs Status**-Wells with soft water are more likely to be functional.wells with salty or milky water show higher need for attention.\n",
    "#### **Source type vs status** -Spring and river/lake sources show better functionality.Shallow wells and boreholes are more prone to needing attention.\n",
    "\n"
   ]
  },
  {
   "cell_type": "markdown",
   "id": "7dd49a7c",
   "metadata": {},
   "source": [
    "### 4.5 Numerical vs Target variable"
   ]
  },
  {
   "cell_type": "code",
   "execution_count": 100,
   "id": "7faeff8f",
   "metadata": {},
   "outputs": [
    {
     "data": {
      "image/png": "[encoded data removed]",
      "text/plain": [
       "<Figure size 1296x720 with 4 Axes>"
      ]
     },
     "metadata": {
      "needs_background": "light"
     },
     "output_type": "display_data"
    }
   ],
   "source": [
    "# Select only key numeric features for comparison\n",
    "selected_numeric_cols = ['amount_tsh', 'gps_height', 'population', 'construction_year']\n",
    "# layout\n",
    "num_features = len(selected_numeric_cols)\n",
    "cols_per_row = 3\n",
    "rows = (num_features + cols_per_row - 1) // cols_per_row\n",
    "\n",
    "plt.figure(figsize=(18, 5 * rows))\n",
    "\n",
    "for i, col in enumerate(selected_numeric_cols, 1):\n",
    "    plt.subplot(rows, cols_per_row, i)\n",
    "    sns.boxplot(data=df, x='status_binary', y=col, palette='Set2')\n",
    "    plt.title(f'{col} vs Well Status')\n",
    "    plt.xlabel('Well Status')\n",
    "    plt.ylabel(col)\n",
    "\n",
    "plt.tight_layout()\n",
    "plt.show()\n"
   ]
  },
  {
   "cell_type": "markdown",
   "id": "e3004db2",
   "metadata": {},
   "source": [
    "#### **"
   ]
  },
  {
   "cell_type": "markdown",
   "id": "48a01441",
   "metadata": {},
   "source": [
    "### 5.Preprocessing\n"
   ]
  },
  {
   "cell_type": "markdown",
   "id": "018e3919",
   "metadata": {},
   "source": [
    "### 5.1 Log transformation for skewed numerical features\n",
    "#### amount_tsh and population are highly skewed.applying log transformation will compress the scale for a better model."
   ]
  },
  {
   "cell_type": "code",
   "execution_count": 76,
   "id": "01dd8b51",
   "metadata": {},
   "outputs": [],
   "source": [
    "# Log transform skewed features\n",
    "df['amount_tsh_log'] = np.log1p(df['amount_tsh'])\n",
    "df['population_log'] = np.log1p(df['population'])\n"
   ]
  },
  {
   "cell_type": "markdown",
   "id": "d0b271f4",
   "metadata": {},
   "source": [
    "### 5.2 Encode Categorical Variables\n",
    "##### Machine learning model will require numerical inputs.We will use one-hot encoding to convert categorical features into binary."
   ]
  },
  {
   "cell_type": "code",
   "execution_count": 77,
   "id": "ac82bab1",
   "metadata": {},
   "outputs": [
    {
     "name": "stdout",
     "output_type": "stream",
     "text": [
      "Initial categorical columns:\n",
      "['funder', 'installer', 'basin', 'region', 'public_meeting', 'extraction_type', 'extraction_type_group', 'extraction_type_class', 'management', 'management_group', 'payment', 'payment_type', 'water_quality', 'quality_group', 'quantity', 'quantity_group', 'source', 'source_type', 'source_class', 'waterpoint_type', 'waterpoint_type_group']\n"
     ]
    }
   ],
   "source": [
    "#identify our cleaned categorical columns exclude the target.\n",
    "categ_cols=cat_cols = df.select_dtypes(include='object').columns.tolist()\n",
    "categ_cols = [col for col in categ_cols if col not in ['status_group', 'status_binary']]\n",
    "print(\"Initial categorical columns:\")\n",
    "print(categ_cols)\n"
   ]
  },
  {
   "cell_type": "code",
   "execution_count": 78,
   "id": "7d1fcd64",
   "metadata": {},
   "outputs": [
    {
     "name": "stdout",
     "output_type": "stream",
     "text": [
      "\n",
      "Unique values per categorical column:\n",
      "Column 'funder' has 1745 unique values.\n",
      "Column 'installer' has 1971 unique values.\n",
      "Column 'basin' has 9 unique values.\n",
      "Column 'region' has 21 unique values.\n",
      "Column 'public_meeting' has 2 unique values.\n",
      "Column 'extraction_type' has 18 unique values.\n",
      "Column 'extraction_type_group' has 13 unique values.\n",
      "Column 'extraction_type_class' has 7 unique values.\n",
      "Column 'management' has 12 unique values.\n",
      "Column 'management_group' has 5 unique values.\n",
      "Column 'payment' has 7 unique values.\n",
      "Column 'payment_type' has 7 unique values.\n",
      "Column 'water_quality' has 8 unique values.\n",
      "Column 'quality_group' has 6 unique values.\n",
      "Column 'quantity' has 5 unique values.\n",
      "Column 'quantity_group' has 5 unique values.\n",
      "Column 'source' has 10 unique values.\n",
      "Column 'source_type' has 7 unique values.\n",
      "Column 'source_class' has 3 unique values.\n",
      "Column 'waterpoint_type' has 7 unique values.\n",
      "Column 'waterpoint_type_group' has 6 unique values.\n"
     ]
    }
   ],
   "source": [
    "# drop sparse columns\n",
    "# Set threshold for max unique values allowed\n",
    "max_unique_threshold = 50\n",
    "# Track sparse columns to drop\n",
    "sparse_cols = []\n",
    "print(\"\\nUnique values per categorical column:\")\n",
    "for col in categ_cols:\n",
    "    unique_vals = df[col].nunique()\n",
    "    print(f\"Column '{col}' has {unique_vals} unique values.\")\n",
    "    if unique_vals > max_unique_threshold:\n",
    "        sparse_cols.append(col)\n"
   ]
  },
  {
   "cell_type": "code",
   "execution_count": 79,
   "id": "0f1b6eb2",
   "metadata": {},
   "outputs": [
    {
     "name": "stdout",
     "output_type": "stream",
     "text": [
      "\n",
      "Dropping sparse columns:\n",
      "['funder', 'installer']\n",
      "\n",
      "Categorical columns after dropping sparse ones:\n",
      "['basin', 'region', 'public_meeting', 'extraction_type', 'extraction_type_group', 'extraction_type_class', 'management', 'management_group', 'payment', 'payment_type', 'water_quality', 'quality_group', 'quantity', 'quantity_group', 'source', 'source_type', 'source_class', 'waterpoint_type', 'waterpoint_type_group']\n"
     ]
    }
   ],
   "source": [
    "# Drop sparse columns\n",
    "if sparse_cols:\n",
    "    print(\"\\nDropping sparse columns:\")\n",
    "    print(sparse_cols)\n",
    "    df.drop(columns=sparse_cols, inplace=True)\n",
    "    # Update categorical columns list after dropping sparse ones\n",
    "    categ_cols = [col for col in categ_cols if col not in sparse_cols]\n",
    "else:\n",
    "    print(\"\\nNo sparse columns to drop.\")\n",
    "\n",
    "print(\"\\nCategorical columns after dropping sparse ones:\")\n",
    "print(categ_cols)"
   ]
  }
 ],
 "metadata": {
  "kernelspec": {
   "display_name": "learn-env",
   "language": "python",
   "name": "python3"
  },
  "language_info": {
   "codemirror_mode": {
    "name": "ipython",
    "version": 3
   },
   "file_extension": ".py",
   "mimetype": "text/x-python",
   "name": "python",
   "nbconvert_exporter": "python",
   "pygments_lexer": "ipython3",
   "version": "3.8.5"
  }
 },
 "nbformat": 4,
 "nbformat_minor": 5
}

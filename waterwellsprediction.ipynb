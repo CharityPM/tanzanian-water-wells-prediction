{
 "cells": [
  {
   "cell_type": "markdown",
   "id": "199079dc",
   "metadata": {},
   "source": [
    "#                 **TANZANIAN WATER WELLS PREDICTION**\n",
    "\n",
    "##### **Name**-Charity Mwangangi\n",
    "##### **Student pace**-Part time\n",
    "##### **TM**- Maryann Mwikali\n",
    "##### **Phase 3 Project **\n",
    "\n",
    "## **1.Business understanding Problem and Objective**\n",
    "\n",
    "### Stateholder:Tanzanian NGO\n",
    "\n",
    "### **Overview**\n",
    "\n",
    "#### Tanzania faces significant challenges in providing consistent access to clean water for its citizens. With an estimated population of 70.5 million in mid‑2025, Tanzania remains one of Africa’s fastest-growing nations in terms of population and resource demand.\n",
    "\n",
    "### **Business problem**\n",
    "#### The client seeks insights into patterns distinguishing **functional** versus **non-functional or repair-needed wells**, to inform drilling strategies and maintenance priorities. The goal is to help villages avoid prolonged downtime and reduce socio-economic burdens especially on women and children, who are often tasked with collecting water.\n",
    "\n",
    "### **Project objective**\n",
    "#### Use the Pump It Up dataset (featuring features like pump type, installation year, payment method, and location) to build a **classification model** that:\n",
    "#### - Predict well status in a **binary setup**: functional vs. needs attention (repair or non-functional).  \n",
    "#### -  Identify the key features driving pump failures (e.g., pump type, installation year, management system).\n",
    "\n",
    "### **Project goal/value**\n",
    "#### Enables targeted maintenance, directing resources to at-risk wells before they fail.#### Reduces the socioeconomic burden of water insecurity by ensuring greaterhealth, education, and gender equity outcomes.\n",
    "\n",
    "### **Data source**\n",
    "#### DrivenData. (2015). Pump it Up: Data Mining the Water Table. Retrieved [Month Day Year] from https://www.drivendata.org/competitions/7/pump-it-up-data-mining-the-water-table.\n",
    "\n",
    "\n"
   ]
  },
  {
   "cell_type": "markdown",
   "id": "59ba65d4",
   "metadata": {},
   "source": [
    "###  2.Data loading and overview\n",
    "#### 2.1.import libraries\n",
    "#### These libraries will support data exploration, preprocessing, modeling, and evaluation:\n"
   ]
  },
  {
   "cell_type": "code",
   "execution_count": 62,
   "id": "dc64b89a",
   "metadata": {},
   "outputs": [],
   "source": [
    "import pandas as pd\n",
    "import numpy as np\n",
    "\n",
    "import matplotlib.pyplot as plt\n",
    "import seaborn as sns\n",
    "%matplotlib inline\n",
    "\n",
    "from sklearn.preprocessing import OneHotEncoder,LabelEncoder\n",
    "from sklearn.preprocessing import StandardScaler\n",
    "from sklearn.preprocessing import FunctionTransformer\n",
    "\n",
    "from sklearn.model_selection import train_test_split\n",
    "\n",
    "from sklearn.linear_model import LogisticRegression\n",
    "\n",
    "from sklearn.metrics import classification_report, accuracy_score, confusion_matrix,ConfusionMatrixDisplay\n"
   ]
  },
  {
   "cell_type": "markdown",
   "id": "d0e553d0",
   "metadata": {},
   "source": [
    "#### 2.2 Load dataset"
   ]
  },
  {
   "cell_type": "code",
   "execution_count": 2,
   "id": "993c8d9e",
   "metadata": {},
   "outputs": [
    {
     "name": "stdout",
     "output_type": "stream",
     "text": [
      "Labels:\n"
     ]
    },
    {
     "data": {
      "text/html": [
       "<div>\n",
       "<style scoped>\n",
       "    .dataframe tbody tr th:only-of-type {\n",
       "        vertical-align: middle;\n",
       "    }\n",
       "\n",
       "    .dataframe tbody tr th {\n",
       "        vertical-align: top;\n",
       "    }\n",
       "\n",
       "    .dataframe thead th {\n",
       "        text-align: right;\n",
       "    }\n",
       "</style>\n",
       "<table border=\"1\" class=\"dataframe\">\n",
       "  <thead>\n",
       "    <tr style=\"text-align: right;\">\n",
       "      <th></th>\n",
       "      <th>id</th>\n",
       "      <th>status_group</th>\n",
       "    </tr>\n",
       "  </thead>\n",
       "  <tbody>\n",
       "    <tr>\n",
       "      <th>0</th>\n",
       "      <td>69572</td>\n",
       "      <td>functional</td>\n",
       "    </tr>\n",
       "    <tr>\n",
       "      <th>1</th>\n",
       "      <td>8776</td>\n",
       "      <td>functional</td>\n",
       "    </tr>\n",
       "    <tr>\n",
       "      <th>2</th>\n",
       "      <td>34310</td>\n",
       "      <td>functional</td>\n",
       "    </tr>\n",
       "    <tr>\n",
       "      <th>3</th>\n",
       "      <td>67743</td>\n",
       "      <td>non functional</td>\n",
       "    </tr>\n",
       "    <tr>\n",
       "      <th>4</th>\n",
       "      <td>19728</td>\n",
       "      <td>functional</td>\n",
       "    </tr>\n",
       "  </tbody>\n",
       "</table>\n",
       "</div>"
      ],
      "text/plain": [
       "      id    status_group\n",
       "0  69572      functional\n",
       "1   8776      functional\n",
       "2  34310      functional\n",
       "3  67743  non functional\n",
       "4  19728      functional"
      ]
     },
     "metadata": {},
     "output_type": "display_data"
    },
    {
     "name": "stdout",
     "output_type": "stream",
     "text": [
      "\n",
      "Values:\n"
     ]
    },
    {
     "data": {
      "text/html": [
       "<div>\n",
       "<style scoped>\n",
       "    .dataframe tbody tr th:only-of-type {\n",
       "        vertical-align: middle;\n",
       "    }\n",
       "\n",
       "    .dataframe tbody tr th {\n",
       "        vertical-align: top;\n",
       "    }\n",
       "\n",
       "    .dataframe thead th {\n",
       "        text-align: right;\n",
       "    }\n",
       "</style>\n",
       "<table border=\"1\" class=\"dataframe\">\n",
       "  <thead>\n",
       "    <tr style=\"text-align: right;\">\n",
       "      <th></th>\n",
       "      <th>id</th>\n",
       "      <th>amount_tsh</th>\n",
       "      <th>date_recorded</th>\n",
       "      <th>funder</th>\n",
       "      <th>gps_height</th>\n",
       "      <th>installer</th>\n",
       "      <th>longitude</th>\n",
       "      <th>latitude</th>\n",
       "      <th>wpt_name</th>\n",
       "      <th>num_private</th>\n",
       "      <th>...</th>\n",
       "      <th>payment_type</th>\n",
       "      <th>water_quality</th>\n",
       "      <th>quality_group</th>\n",
       "      <th>quantity</th>\n",
       "      <th>quantity_group</th>\n",
       "      <th>source</th>\n",
       "      <th>source_type</th>\n",
       "      <th>source_class</th>\n",
       "      <th>waterpoint_type</th>\n",
       "      <th>waterpoint_type_group</th>\n",
       "    </tr>\n",
       "  </thead>\n",
       "  <tbody>\n",
       "    <tr>\n",
       "      <th>0</th>\n",
       "      <td>69572</td>\n",
       "      <td>6000.0</td>\n",
       "      <td>2011-03-14</td>\n",
       "      <td>Roman</td>\n",
       "      <td>1390</td>\n",
       "      <td>Roman</td>\n",
       "      <td>34.938093</td>\n",
       "      <td>-9.856322</td>\n",
       "      <td>none</td>\n",
       "      <td>0</td>\n",
       "      <td>...</td>\n",
       "      <td>annually</td>\n",
       "      <td>soft</td>\n",
       "      <td>good</td>\n",
       "      <td>enough</td>\n",
       "      <td>enough</td>\n",
       "      <td>spring</td>\n",
       "      <td>spring</td>\n",
       "      <td>groundwater</td>\n",
       "      <td>communal standpipe</td>\n",
       "      <td>communal standpipe</td>\n",
       "    </tr>\n",
       "    <tr>\n",
       "      <th>1</th>\n",
       "      <td>8776</td>\n",
       "      <td>0.0</td>\n",
       "      <td>2013-03-06</td>\n",
       "      <td>Grumeti</td>\n",
       "      <td>1399</td>\n",
       "      <td>GRUMETI</td>\n",
       "      <td>34.698766</td>\n",
       "      <td>-2.147466</td>\n",
       "      <td>Zahanati</td>\n",
       "      <td>0</td>\n",
       "      <td>...</td>\n",
       "      <td>never pay</td>\n",
       "      <td>soft</td>\n",
       "      <td>good</td>\n",
       "      <td>insufficient</td>\n",
       "      <td>insufficient</td>\n",
       "      <td>rainwater harvesting</td>\n",
       "      <td>rainwater harvesting</td>\n",
       "      <td>surface</td>\n",
       "      <td>communal standpipe</td>\n",
       "      <td>communal standpipe</td>\n",
       "    </tr>\n",
       "    <tr>\n",
       "      <th>2</th>\n",
       "      <td>34310</td>\n",
       "      <td>25.0</td>\n",
       "      <td>2013-02-25</td>\n",
       "      <td>Lottery Club</td>\n",
       "      <td>686</td>\n",
       "      <td>World vision</td>\n",
       "      <td>37.460664</td>\n",
       "      <td>-3.821329</td>\n",
       "      <td>Kwa Mahundi</td>\n",
       "      <td>0</td>\n",
       "      <td>...</td>\n",
       "      <td>per bucket</td>\n",
       "      <td>soft</td>\n",
       "      <td>good</td>\n",
       "      <td>enough</td>\n",
       "      <td>enough</td>\n",
       "      <td>dam</td>\n",
       "      <td>dam</td>\n",
       "      <td>surface</td>\n",
       "      <td>communal standpipe multiple</td>\n",
       "      <td>communal standpipe</td>\n",
       "    </tr>\n",
       "    <tr>\n",
       "      <th>3</th>\n",
       "      <td>67743</td>\n",
       "      <td>0.0</td>\n",
       "      <td>2013-01-28</td>\n",
       "      <td>Unicef</td>\n",
       "      <td>263</td>\n",
       "      <td>UNICEF</td>\n",
       "      <td>38.486161</td>\n",
       "      <td>-11.155298</td>\n",
       "      <td>Zahanati Ya Nanyumbu</td>\n",
       "      <td>0</td>\n",
       "      <td>...</td>\n",
       "      <td>never pay</td>\n",
       "      <td>soft</td>\n",
       "      <td>good</td>\n",
       "      <td>dry</td>\n",
       "      <td>dry</td>\n",
       "      <td>machine dbh</td>\n",
       "      <td>borehole</td>\n",
       "      <td>groundwater</td>\n",
       "      <td>communal standpipe multiple</td>\n",
       "      <td>communal standpipe</td>\n",
       "    </tr>\n",
       "    <tr>\n",
       "      <th>4</th>\n",
       "      <td>19728</td>\n",
       "      <td>0.0</td>\n",
       "      <td>2011-07-13</td>\n",
       "      <td>Action In A</td>\n",
       "      <td>0</td>\n",
       "      <td>Artisan</td>\n",
       "      <td>31.130847</td>\n",
       "      <td>-1.825359</td>\n",
       "      <td>Shuleni</td>\n",
       "      <td>0</td>\n",
       "      <td>...</td>\n",
       "      <td>never pay</td>\n",
       "      <td>soft</td>\n",
       "      <td>good</td>\n",
       "      <td>seasonal</td>\n",
       "      <td>seasonal</td>\n",
       "      <td>rainwater harvesting</td>\n",
       "      <td>rainwater harvesting</td>\n",
       "      <td>surface</td>\n",
       "      <td>communal standpipe</td>\n",
       "      <td>communal standpipe</td>\n",
       "    </tr>\n",
       "  </tbody>\n",
       "</table>\n",
       "<p>5 rows × 40 columns</p>\n",
       "</div>"
      ],
      "text/plain": [
       "      id  amount_tsh date_recorded        funder  gps_height     installer  \\\n",
       "0  69572      6000.0    2011-03-14         Roman        1390         Roman   \n",
       "1   8776         0.0    2013-03-06       Grumeti        1399       GRUMETI   \n",
       "2  34310        25.0    2013-02-25  Lottery Club         686  World vision   \n",
       "3  67743         0.0    2013-01-28        Unicef         263        UNICEF   \n",
       "4  19728         0.0    2011-07-13   Action In A           0       Artisan   \n",
       "\n",
       "   longitude   latitude              wpt_name  num_private  ... payment_type  \\\n",
       "0  34.938093  -9.856322                  none            0  ...     annually   \n",
       "1  34.698766  -2.147466              Zahanati            0  ...    never pay   \n",
       "2  37.460664  -3.821329           Kwa Mahundi            0  ...   per bucket   \n",
       "3  38.486161 -11.155298  Zahanati Ya Nanyumbu            0  ...    never pay   \n",
       "4  31.130847  -1.825359               Shuleni            0  ...    never pay   \n",
       "\n",
       "  water_quality quality_group      quantity  quantity_group  \\\n",
       "0          soft          good        enough          enough   \n",
       "1          soft          good  insufficient    insufficient   \n",
       "2          soft          good        enough          enough   \n",
       "3          soft          good           dry             dry   \n",
       "4          soft          good      seasonal        seasonal   \n",
       "\n",
       "                 source           source_type  source_class  \\\n",
       "0                spring                spring   groundwater   \n",
       "1  rainwater harvesting  rainwater harvesting       surface   \n",
       "2                   dam                   dam       surface   \n",
       "3           machine dbh              borehole   groundwater   \n",
       "4  rainwater harvesting  rainwater harvesting       surface   \n",
       "\n",
       "               waterpoint_type waterpoint_type_group  \n",
       "0           communal standpipe    communal standpipe  \n",
       "1           communal standpipe    communal standpipe  \n",
       "2  communal standpipe multiple    communal standpipe  \n",
       "3  communal standpipe multiple    communal standpipe  \n",
       "4           communal standpipe    communal standpipe  \n",
       "\n",
       "[5 rows x 40 columns]"
      ]
     },
     "metadata": {},
     "output_type": "display_data"
    }
   ],
   "source": [
    "# train dataset\n",
    "df_labels=pd.read_csv(\"Dataset/Training set labels.csv\")\n",
    "df_values=pd.read_csv(\"Dataset/Training set values.csv\")\n",
    "\n",
    "print(\"Labels:\")\n",
    "display(df_labels.head())\n",
    "\n",
    "print(\"\\nValues:\")\n",
    "display(df_values.head())"
   ]
  },
  {
   "cell_type": "code",
   "execution_count": 3,
   "id": "f31e3d21",
   "metadata": {},
   "outputs": [
    {
     "data": {
      "text/html": [
       "<div>\n",
       "<style scoped>\n",
       "    .dataframe tbody tr th:only-of-type {\n",
       "        vertical-align: middle;\n",
       "    }\n",
       "\n",
       "    .dataframe tbody tr th {\n",
       "        vertical-align: top;\n",
       "    }\n",
       "\n",
       "    .dataframe thead th {\n",
       "        text-align: right;\n",
       "    }\n",
       "</style>\n",
       "<table border=\"1\" class=\"dataframe\">\n",
       "  <thead>\n",
       "    <tr style=\"text-align: right;\">\n",
       "      <th></th>\n",
       "      <th>id</th>\n",
       "      <th>amount_tsh</th>\n",
       "      <th>date_recorded</th>\n",
       "      <th>funder</th>\n",
       "      <th>gps_height</th>\n",
       "      <th>installer</th>\n",
       "      <th>longitude</th>\n",
       "      <th>latitude</th>\n",
       "      <th>wpt_name</th>\n",
       "      <th>num_private</th>\n",
       "      <th>...</th>\n",
       "      <th>water_quality</th>\n",
       "      <th>quality_group</th>\n",
       "      <th>quantity</th>\n",
       "      <th>quantity_group</th>\n",
       "      <th>source</th>\n",
       "      <th>source_type</th>\n",
       "      <th>source_class</th>\n",
       "      <th>waterpoint_type</th>\n",
       "      <th>waterpoint_type_group</th>\n",
       "      <th>status_group</th>\n",
       "    </tr>\n",
       "  </thead>\n",
       "  <tbody>\n",
       "    <tr>\n",
       "      <th>0</th>\n",
       "      <td>69572</td>\n",
       "      <td>6000.0</td>\n",
       "      <td>2011-03-14</td>\n",
       "      <td>Roman</td>\n",
       "      <td>1390</td>\n",
       "      <td>Roman</td>\n",
       "      <td>34.938093</td>\n",
       "      <td>-9.856322</td>\n",
       "      <td>none</td>\n",
       "      <td>0</td>\n",
       "      <td>...</td>\n",
       "      <td>soft</td>\n",
       "      <td>good</td>\n",
       "      <td>enough</td>\n",
       "      <td>enough</td>\n",
       "      <td>spring</td>\n",
       "      <td>spring</td>\n",
       "      <td>groundwater</td>\n",
       "      <td>communal standpipe</td>\n",
       "      <td>communal standpipe</td>\n",
       "      <td>functional</td>\n",
       "    </tr>\n",
       "    <tr>\n",
       "      <th>1</th>\n",
       "      <td>8776</td>\n",
       "      <td>0.0</td>\n",
       "      <td>2013-03-06</td>\n",
       "      <td>Grumeti</td>\n",
       "      <td>1399</td>\n",
       "      <td>GRUMETI</td>\n",
       "      <td>34.698766</td>\n",
       "      <td>-2.147466</td>\n",
       "      <td>Zahanati</td>\n",
       "      <td>0</td>\n",
       "      <td>...</td>\n",
       "      <td>soft</td>\n",
       "      <td>good</td>\n",
       "      <td>insufficient</td>\n",
       "      <td>insufficient</td>\n",
       "      <td>rainwater harvesting</td>\n",
       "      <td>rainwater harvesting</td>\n",
       "      <td>surface</td>\n",
       "      <td>communal standpipe</td>\n",
       "      <td>communal standpipe</td>\n",
       "      <td>functional</td>\n",
       "    </tr>\n",
       "    <tr>\n",
       "      <th>2</th>\n",
       "      <td>34310</td>\n",
       "      <td>25.0</td>\n",
       "      <td>2013-02-25</td>\n",
       "      <td>Lottery Club</td>\n",
       "      <td>686</td>\n",
       "      <td>World vision</td>\n",
       "      <td>37.460664</td>\n",
       "      <td>-3.821329</td>\n",
       "      <td>Kwa Mahundi</td>\n",
       "      <td>0</td>\n",
       "      <td>...</td>\n",
       "      <td>soft</td>\n",
       "      <td>good</td>\n",
       "      <td>enough</td>\n",
       "      <td>enough</td>\n",
       "      <td>dam</td>\n",
       "      <td>dam</td>\n",
       "      <td>surface</td>\n",
       "      <td>communal standpipe multiple</td>\n",
       "      <td>communal standpipe</td>\n",
       "      <td>functional</td>\n",
       "    </tr>\n",
       "    <tr>\n",
       "      <th>3</th>\n",
       "      <td>67743</td>\n",
       "      <td>0.0</td>\n",
       "      <td>2013-01-28</td>\n",
       "      <td>Unicef</td>\n",
       "      <td>263</td>\n",
       "      <td>UNICEF</td>\n",
       "      <td>38.486161</td>\n",
       "      <td>-11.155298</td>\n",
       "      <td>Zahanati Ya Nanyumbu</td>\n",
       "      <td>0</td>\n",
       "      <td>...</td>\n",
       "      <td>soft</td>\n",
       "      <td>good</td>\n",
       "      <td>dry</td>\n",
       "      <td>dry</td>\n",
       "      <td>machine dbh</td>\n",
       "      <td>borehole</td>\n",
       "      <td>groundwater</td>\n",
       "      <td>communal standpipe multiple</td>\n",
       "      <td>communal standpipe</td>\n",
       "      <td>non functional</td>\n",
       "    </tr>\n",
       "    <tr>\n",
       "      <th>4</th>\n",
       "      <td>19728</td>\n",
       "      <td>0.0</td>\n",
       "      <td>2011-07-13</td>\n",
       "      <td>Action In A</td>\n",
       "      <td>0</td>\n",
       "      <td>Artisan</td>\n",
       "      <td>31.130847</td>\n",
       "      <td>-1.825359</td>\n",
       "      <td>Shuleni</td>\n",
       "      <td>0</td>\n",
       "      <td>...</td>\n",
       "      <td>soft</td>\n",
       "      <td>good</td>\n",
       "      <td>seasonal</td>\n",
       "      <td>seasonal</td>\n",
       "      <td>rainwater harvesting</td>\n",
       "      <td>rainwater harvesting</td>\n",
       "      <td>surface</td>\n",
       "      <td>communal standpipe</td>\n",
       "      <td>communal standpipe</td>\n",
       "      <td>functional</td>\n",
       "    </tr>\n",
       "  </tbody>\n",
       "</table>\n",
       "<p>5 rows × 41 columns</p>\n",
       "</div>"
      ],
      "text/plain": [
       "      id  amount_tsh date_recorded        funder  gps_height     installer  \\\n",
       "0  69572      6000.0    2011-03-14         Roman        1390         Roman   \n",
       "1   8776         0.0    2013-03-06       Grumeti        1399       GRUMETI   \n",
       "2  34310        25.0    2013-02-25  Lottery Club         686  World vision   \n",
       "3  67743         0.0    2013-01-28        Unicef         263        UNICEF   \n",
       "4  19728         0.0    2011-07-13   Action In A           0       Artisan   \n",
       "\n",
       "   longitude   latitude              wpt_name  num_private  ... water_quality  \\\n",
       "0  34.938093  -9.856322                  none            0  ...          soft   \n",
       "1  34.698766  -2.147466              Zahanati            0  ...          soft   \n",
       "2  37.460664  -3.821329           Kwa Mahundi            0  ...          soft   \n",
       "3  38.486161 -11.155298  Zahanati Ya Nanyumbu            0  ...          soft   \n",
       "4  31.130847  -1.825359               Shuleni            0  ...          soft   \n",
       "\n",
       "  quality_group      quantity  quantity_group                source  \\\n",
       "0          good        enough          enough                spring   \n",
       "1          good  insufficient    insufficient  rainwater harvesting   \n",
       "2          good        enough          enough                   dam   \n",
       "3          good           dry             dry           machine dbh   \n",
       "4          good      seasonal        seasonal  rainwater harvesting   \n",
       "\n",
       "            source_type source_class              waterpoint_type  \\\n",
       "0                spring  groundwater           communal standpipe   \n",
       "1  rainwater harvesting      surface           communal standpipe   \n",
       "2                   dam      surface  communal standpipe multiple   \n",
       "3              borehole  groundwater  communal standpipe multiple   \n",
       "4  rainwater harvesting      surface           communal standpipe   \n",
       "\n",
       "  waterpoint_type_group    status_group  \n",
       "0    communal standpipe      functional  \n",
       "1    communal standpipe      functional  \n",
       "2    communal standpipe      functional  \n",
       "3    communal standpipe  non functional  \n",
       "4    communal standpipe      functional  \n",
       "\n",
       "[5 rows x 41 columns]"
      ]
     },
     "metadata": {},
     "output_type": "display_data"
    },
    {
     "name": "stdout",
     "output_type": "stream",
     "text": [
      "Combined shape: (59400, 41)\n"
     ]
    }
   ],
   "source": [
    "#merge the two datasets using id\n",
    "train_df = df_values.merge(df_labels, on='id')\n",
    "display(train_df.head())\n",
    "print(\"Combined shape:\", train_df.shape)\n"
   ]
  },
  {
   "cell_type": "code",
   "execution_count": 4,
   "id": "1309f24b",
   "metadata": {},
   "outputs": [],
   "source": [
    "#load test set\n",
    "test_df = pd.read_csv('Dataset/Test set values.csv')\n",
    "\n"
   ]
  },
  {
   "cell_type": "code",
   "execution_count": 5,
   "id": "5e292cd5",
   "metadata": {},
   "outputs": [],
   "source": [
    "#combining train and test data for cleaning and preprocessing\n",
    "#Add a flag so you can split them later\n",
    "train_df['source'] = 'train'\n",
    "test_df['source'] = 'test'\n",
    "test_df['status_group'] = np.nan  # placeholder for label column\n",
    "\n",
    "# Combine\n",
    "df= pd.concat([train_df, test_df], axis=0)\n"
   ]
  },
  {
   "cell_type": "code",
   "execution_count": 6,
   "id": "f7e25415",
   "metadata": {},
   "outputs": [
    {
     "data": {
      "text/plain": [
       "Index(['id', 'amount_tsh', 'date_recorded', 'funder', 'gps_height',\n",
       "       'installer', 'longitude', 'latitude', 'wpt_name', 'num_private',\n",
       "       'basin', 'subvillage', 'region', 'region_code', 'district_code', 'lga',\n",
       "       'ward', 'population', 'public_meeting', 'recorded_by',\n",
       "       'scheme_management', 'scheme_name', 'permit', 'construction_year',\n",
       "       'extraction_type', 'extraction_type_group', 'extraction_type_class',\n",
       "       'management', 'management_group', 'payment', 'payment_type',\n",
       "       'water_quality', 'quality_group', 'quantity', 'quantity_group',\n",
       "       'source', 'source_type', 'source_class', 'waterpoint_type',\n",
       "       'waterpoint_type_group', 'status_group'],\n",
       "      dtype='object')"
      ]
     },
     "execution_count": 6,
     "metadata": {},
     "output_type": "execute_result"
    }
   ],
   "source": [
    "#checking columns in our data\n",
    "df.columns\n"
   ]
  },
  {
   "cell_type": "code",
   "execution_count": 7,
   "id": "7d1772e2",
   "metadata": {},
   "outputs": [
    {
     "name": "stdout",
     "output_type": "stream",
     "text": [
      "<class 'pandas.core.frame.DataFrame'>\n",
      "Int64Index: 74250 entries, 0 to 14849\n",
      "Data columns (total 41 columns):\n",
      " #   Column                 Non-Null Count  Dtype  \n",
      "---  ------                 --------------  -----  \n",
      " 0   id                     74250 non-null  int64  \n",
      " 1   amount_tsh             74250 non-null  float64\n",
      " 2   date_recorded          74250 non-null  object \n",
      " 3   funder                 69746 non-null  object \n",
      " 4   gps_height             74250 non-null  int64  \n",
      " 5   installer              69718 non-null  object \n",
      " 6   longitude              74250 non-null  float64\n",
      " 7   latitude               74250 non-null  float64\n",
      " 8   wpt_name               74250 non-null  object \n",
      " 9   num_private            74250 non-null  int64  \n",
      " 10  basin                  74250 non-null  object \n",
      " 11  subvillage             73780 non-null  object \n",
      " 12  region                 74250 non-null  object \n",
      " 13  region_code            74250 non-null  int64  \n",
      " 14  district_code          74250 non-null  int64  \n",
      " 15  lga                    74250 non-null  object \n",
      " 16  ward                   74250 non-null  object \n",
      " 17  population             74250 non-null  int64  \n",
      " 18  public_meeting         70095 non-null  object \n",
      " 19  recorded_by            74250 non-null  object \n",
      " 20  scheme_management      69404 non-null  object \n",
      " 21  scheme_name            38992 non-null  object \n",
      " 22  permit                 70457 non-null  object \n",
      " 23  construction_year      74250 non-null  int64  \n",
      " 24  extraction_type        74250 non-null  object \n",
      " 25  extraction_type_group  74250 non-null  object \n",
      " 26  extraction_type_class  74250 non-null  object \n",
      " 27  management             74250 non-null  object \n",
      " 28  management_group       74250 non-null  object \n",
      " 29  payment                74250 non-null  object \n",
      " 30  payment_type           74250 non-null  object \n",
      " 31  water_quality          74250 non-null  object \n",
      " 32  quality_group          74250 non-null  object \n",
      " 33  quantity               74250 non-null  object \n",
      " 34  quantity_group         74250 non-null  object \n",
      " 35  source                 74250 non-null  object \n",
      " 36  source_type            74250 non-null  object \n",
      " 37  source_class           74250 non-null  object \n",
      " 38  waterpoint_type        74250 non-null  object \n",
      " 39  waterpoint_type_group  74250 non-null  object \n",
      " 40  status_group           59400 non-null  object \n",
      "dtypes: float64(3), int64(7), object(31)\n",
      "memory usage: 23.8+ MB\n"
     ]
    }
   ],
   "source": [
    "#get data type of columns and non-null count\n",
    "df.info()"
   ]
  },
  {
   "cell_type": "code",
   "execution_count": 8,
   "id": "0bccc6ed",
   "metadata": {},
   "outputs": [
    {
     "name": "stdout",
     "output_type": "stream",
     "text": [
      "Our dataset has 10 numeric columns\n",
      "and 31 categorical columns\n"
     ]
    }
   ],
   "source": [
    "def data_types(data):\n",
    "\n",
    "    print(\"Our dataset has\", len( data.select_dtypes(include='number').columns),\n",
    "                \"numeric columns\")\n",
    "    \n",
    "    print(\"and\", len(data.select_dtypes(include='object').columns),\n",
    "          \"categorical columns\")\n",
    "data_types(df) "
   ]
  },
  {
   "cell_type": "markdown",
   "id": "74207a94",
   "metadata": {},
   "source": [
    "### 3.1 Data cleaning and Preprocessing\n"
   ]
  },
  {
   "cell_type": "markdown",
   "id": "0df300ab",
   "metadata": {},
   "source": [
    "#### a) Duplicates"
   ]
  },
  {
   "cell_type": "code",
   "execution_count": 9,
   "id": "debb3627",
   "metadata": {},
   "outputs": [
    {
     "name": "stdout",
     "output_type": "stream",
     "text": [
      "Our Dataset has no Duplicates\n"
     ]
    }
   ],
   "source": [
    "#checking duplicates using a function\n",
    "duplicates = []\n",
    "\n",
    "def check_duplicates(data):\n",
    "\n",
    "    \"\"\"Function that iterates through the rows of our dataset to check whether they are duplicated or not\"\"\"\n",
    "    \n",
    "    for i in data.duplicated():\n",
    "        duplicates.append(i)\n",
    "    duplicates_values = set(duplicates)\n",
    "    if(len(duplicates_values) == 1):\n",
    "        print('Our Dataset has no Duplicates')\n",
    "\n",
    "    else:\n",
    "        duplicates_percentage = np.round(((sum(duplicates)/len(data)) * 100 ), 2)\n",
    "        print(f'Duplicated rows constitute of {duplicates_percentage} % of our dataset')\n",
    "        \n",
    "\n",
    "check_duplicates(df)"
   ]
  },
  {
   "cell_type": "markdown",
   "id": "a3ed71e4",
   "metadata": {},
   "source": [
    "#### b) Missing values"
   ]
  },
  {
   "cell_type": "code",
   "execution_count": 10,
   "id": "4bbbb80a",
   "metadata": {},
   "outputs": [
    {
     "name": "stdout",
     "output_type": "stream",
     "text": [
      "Missing values in dataset:\n"
     ]
    },
    {
     "data": {
      "text/html": [
       "<div>\n",
       "<style scoped>\n",
       "    .dataframe tbody tr th:only-of-type {\n",
       "        vertical-align: middle;\n",
       "    }\n",
       "\n",
       "    .dataframe tbody tr th {\n",
       "        vertical-align: top;\n",
       "    }\n",
       "\n",
       "    .dataframe thead th {\n",
       "        text-align: right;\n",
       "    }\n",
       "</style>\n",
       "<table border=\"1\" class=\"dataframe\">\n",
       "  <thead>\n",
       "    <tr style=\"text-align: right;\">\n",
       "      <th></th>\n",
       "      <th>Missing Values</th>\n",
       "      <th>Percentage</th>\n",
       "    </tr>\n",
       "  </thead>\n",
       "  <tbody>\n",
       "    <tr>\n",
       "      <th>scheme_name</th>\n",
       "      <td>35258</td>\n",
       "      <td>47.485522</td>\n",
       "    </tr>\n",
       "    <tr>\n",
       "      <th>status_group</th>\n",
       "      <td>14850</td>\n",
       "      <td>20.000000</td>\n",
       "    </tr>\n",
       "    <tr>\n",
       "      <th>scheme_management</th>\n",
       "      <td>4846</td>\n",
       "      <td>6.526599</td>\n",
       "    </tr>\n",
       "    <tr>\n",
       "      <th>installer</th>\n",
       "      <td>4532</td>\n",
       "      <td>6.103704</td>\n",
       "    </tr>\n",
       "    <tr>\n",
       "      <th>funder</th>\n",
       "      <td>4504</td>\n",
       "      <td>6.065993</td>\n",
       "    </tr>\n",
       "    <tr>\n",
       "      <th>public_meeting</th>\n",
       "      <td>4155</td>\n",
       "      <td>5.595960</td>\n",
       "    </tr>\n",
       "    <tr>\n",
       "      <th>permit</th>\n",
       "      <td>3793</td>\n",
       "      <td>5.108418</td>\n",
       "    </tr>\n",
       "    <tr>\n",
       "      <th>subvillage</th>\n",
       "      <td>470</td>\n",
       "      <td>0.632997</td>\n",
       "    </tr>\n",
       "  </tbody>\n",
       "</table>\n",
       "</div>"
      ],
      "text/plain": [
       "                   Missing Values  Percentage\n",
       "scheme_name                 35258   47.485522\n",
       "status_group                14850   20.000000\n",
       "scheme_management            4846    6.526599\n",
       "installer                    4532    6.103704\n",
       "funder                       4504    6.065993\n",
       "public_meeting               4155    5.595960\n",
       "permit                       3793    5.108418\n",
       "subvillage                    470    0.632997"
      ]
     },
     "metadata": {},
     "output_type": "display_data"
    }
   ],
   "source": [
    "#checking missing values\n",
    "# Get total and percentage of missing values\n",
    "missing_values = df.isnull().sum()\n",
    "missing_percentage = (missing_values / len(df)) * 100\n",
    "missing_df = pd.DataFrame({'Missing Values': missing_values, 'Percentage': missing_percentage})\n",
    "missing_df = missing_df[missing_df['Missing Values'] > 0].sort_values(by='Percentage', ascending=False)\n",
    "\n",
    "print(\"Missing values in dataset:\")\n",
    "display(missing_df)\n",
    "\n"
   ]
  },
  {
   "cell_type": "markdown",
   "id": "78330f18",
   "metadata": {},
   "source": [
    "### Scheme_name and Scheme Management\n",
    "#### The main objective of this project is to analyze data in order to predict whether water wells in Tanzania are functional or non-functional. The features scheme_name and scheme_management provide information about the names of water supply schemes and their managing entities.However, these features are not expected to be strong predictors of well functionality.\n",
    "#### In addition, both columns have approximately 47% missing values, which is nearly half of the dataset. Imputing these missing values would not only be difficult but also unlikely to add significant predictive power to the model.\n",
    "#### Therefore we will drop them."
   ]
  },
  {
   "cell_type": "code",
   "execution_count": 11,
   "id": "abd9eb1f",
   "metadata": {},
   "outputs": [],
   "source": [
    "#dropping scheme name & scheme management.\n",
    "df.drop(['scheme_name','scheme_management'], axis=1,inplace=True)"
   ]
  },
  {
   "cell_type": "code",
   "execution_count": 12,
   "id": "49063dc8",
   "metadata": {},
   "outputs": [
    {
     "data": {
      "text/plain": [
       "(74250, 39)"
      ]
     },
     "execution_count": 12,
     "metadata": {},
     "output_type": "execute_result"
    }
   ],
   "source": [
    "#preview shape after dropping\n",
    "df.shape"
   ]
  },
  {
   "cell_type": "markdown",
   "id": "ea6fcba0",
   "metadata": {},
   "source": [
    "### Funder\n",
    "#### The funder feature contains the names of organizations or individuals who contributed to the installation of the wells, which could offer valuable insights for future partnerships and resource allocation.\n",
    "#### However, this column has approximately 6% missing values. Since the proportion is relatively small and the information could be meaningful, we will drop only the rows with missing values in this column and select only top 20 funders."
   ]
  },
  {
   "cell_type": "code",
   "execution_count": null,
   "id": "15cbbe21",
   "metadata": {},
   "outputs": [
    {
     "data": {
      "text/plain": [
       "Government Of Tanzania    10788\n",
       "Danida                     3667\n",
       "Hesawa                     2506\n",
       "Kkkt                       1618\n",
       "World Bank                 1597\n",
       "                          ...  \n",
       "Dmk Anglican                  1\n",
       "Ji-eun                        1\n",
       "Ringo                         1\n",
       "Japan Food Aid                1\n",
       "Lengai Makoo                  1\n",
       "Name: funder, Length: 1960, dtype: int64"
      ]
     },
     "execution_count": 19,
     "metadata": {},
     "output_type": "execute_result"
    }
   ],
   "source": [
    "#1. Check value counts for funder\n",
    "funder_counts = df['funder'].value_counts()\n",
    "funder_counts\n"
   ]
  },
  {
   "cell_type": "code",
   "execution_count": 26,
   "id": "95dfb05c",
   "metadata": {},
   "outputs": [],
   "source": [
    "#Keep only the top 20 funders\n",
    "top_n = 20\n",
    "top_funders = funder_counts.nlargest(top_n).index\n",
    "\n",
    "df['funder_reduced'] = df['funder'].where(df['funder'].isin(top_funders), 'Other')\n",
    "df = df.drop(columns=['funder'])\n",
    "\n"
   ]
  },
  {
   "cell_type": "code",
   "execution_count": 27,
   "id": "aa302c40",
   "metadata": {},
   "outputs": [
    {
     "data": {
      "text/plain": [
       "(65780, 39)"
      ]
     },
     "execution_count": 27,
     "metadata": {},
     "output_type": "execute_result"
    }
   ],
   "source": [
    "df.shape"
   ]
  },
  {
   "cell_type": "markdown",
   "id": "ef7e067a",
   "metadata": {},
   "source": [
    "### Installer\n",
    "#### This refers to contractors who are installing the wells.This would contribute much to our stakeholder on the best contractors to work with.\n",
    "#### The  percentage of the missing values are not much ,we will therefore drop the rows with the missing values only."
   ]
  },
  {
   "cell_type": "markdown",
   "id": "f9772efb",
   "metadata": {},
   "source": [
    "\n",
    "##### The installer column also contains names of organizations or entities responsible for installing water wells. However, this column includes many inconsistencies due to:\n",
    "\n",
    "- **Spelling errors** (e.g., `Distric Water Department` vs. `District Water Department`)\n",
    "- **Variations in formatting** (e.g., `GOVERNMENT`, `Government`, `Governmen`)\n",
    "- **Synonyms or partial names** representing the same entity\n",
    "\n",
    "##### To clean this, we used a **dictionary mapping** approach. This method replaces all known variations and misspellings with a consistent, unified label."
   ]
  },
  {
   "cell_type": "code",
   "execution_count": 28,
   "id": "e78073aa",
   "metadata": {},
   "outputs": [],
   "source": [
    "# Dictionary of common replacements for installer names\n",
    "installer_mapping = {\n",
    "    # District Council\n",
    "    'District Water Department': 'District water department',\n",
    "    'District water depar': 'District water department',\n",
    "    'Distric Water Department': 'District water department',\n",
    "    \n",
    "    # Fini Water\n",
    "    'FinW': 'Fini Water',\n",
    "    'Fini water': 'Fini Water',\n",
    "    'FINI WATER': 'Fini Water',\n",
    "    \n",
    "    # Jaica\n",
    "    'JAICA': 'Jaica',\n",
    "    \n",
    "    # District Council Variants\n",
    "    'COUN': 'District council',\n",
    "    'District COUNCIL': 'District council',\n",
    "    'DISTRICT COUNCIL': 'District council',\n",
    "    'District Counci': 'District council',\n",
    "    'District Council': 'District council',\n",
    "    'Council': 'District council',\n",
    "    'Counc': 'District council',\n",
    "    'District  Council': 'District council',\n",
    "    'Distri': 'District council',\n",
    "    \n",
    "    # RC Church Variants\n",
    "    'RC CHURCH': 'RC Church',\n",
    "    'RC Churc': 'RC Church',\n",
    "    'RC': 'RC Church',\n",
    "    'RC Ch': 'RC Church',\n",
    "    'RC C': 'RC Church',\n",
    "    'RC CH': 'RC Church',\n",
    "    'RC church': 'RC Church',\n",
    "    'RC CATHORIC': 'RC Church',\n",
    "    \n",
    "    # Central Government Variants\n",
    "    'Central Government': 'Central government',\n",
    "    'Tanzania Government': 'Central government',\n",
    "    'central government': 'Central government',\n",
    "    'Cental Government': 'Central government',\n",
    "    'Cebtral Government': 'Central government',\n",
    "    'Tanzanian Government': 'Central government',\n",
    "    'Tanzania government': 'Central government',\n",
    "    'Centra Government': 'Central government',\n",
    "    'CENTRAL GOVERNMENT': 'Central government',\n",
    "    'TANZANIAN GOVERNMENT': 'Central government',\n",
    "    'Central govt': 'Central government',\n",
    "    'Centr': 'Central government',\n",
    "    'Centra govt': 'Central government',\n",
    "    \n",
    "    # World Vision\n",
    "    'World vision': 'World Vision',\n",
    "    'World Division': 'World Vision',\n",
    "    \n",
    "    # Unicef\n",
    "    'Unisef': 'Unicef',\n",
    "    'UNICEF': 'Unicef',\n",
    "    \n",
    "    # DANIDA\n",
    "    'DANID': 'DANIDA',\n",
    "    \n",
    "    # Villagers\n",
    "    'villigers': 'villagers',\n",
    "    'villager': 'villagers',\n",
    "    'Villagers': 'villagers',\n",
    "    'Villa': 'villagers',\n",
    "    'Village': 'villagers',\n",
    "    'Villi': 'villagers',\n",
    "    'Village Council': 'villagers',\n",
    "    'Village Counil': 'villagers',\n",
    "    'Villages': 'villagers',\n",
    "    'Vill': 'villagers',\n",
    "    'Village community': 'villagers',\n",
    "    'Villaers': 'villagers',\n",
    "    'Village Community': 'villagers',\n",
    "    'Villag': 'villagers',\n",
    "    'Villege Council': 'villagers',\n",
    "    'Village council': 'villagers',\n",
    "    'Village  Council': 'villagers',\n",
    "    'Villagerd': 'villagers',\n",
    "    'Villager': 'villagers',\n",
    "    'Village Technician': 'villagers',\n",
    "    'Village Office': 'villagers',\n",
    "    'Village community members': 'villagers',\n",
    "    \n",
    "    # Community\n",
    "    'Commu': 'Community',\n",
    "    'Communit': 'Community',\n",
    "    'commu': 'Community',\n",
    "    'COMMU': 'Community',\n",
    "    'COMMUNITY': 'Community',\n",
    "    \n",
    "    # Government Variants\n",
    "    'GOVERNMENT': 'Government',\n",
    "    'GOVER': 'Government',\n",
    "    'GOVERNME': 'Government',\n",
    "    'GOVERM': 'Government',\n",
    "    'GOVERN': 'Government',\n",
    "    'Gover': 'Government',\n",
    "    'Gove': 'Government',\n",
    "    'Governme': 'Government',\n",
    "    'Governmen': 'Government',\n",
    "    \n",
    "    # Other custom fixes\n",
    "    'Hesawa': 'HESAWA',\n",
    "    'Colonial Government': 'Colonial government',\n",
    "    'Government of Misri': 'Misri Government',\n",
    "    'Italy government': 'Italian government',\n",
    "    'British colonial government': 'British government',\n",
    "    'Concern /government': 'Concern/Government',\n",
    "    'Village Government': 'Village government',\n",
    "    'Government and Community': 'Government /Community',\n",
    "    'Cetral government /RC': 'RC church/Central Gover',\n",
    "    'Government /TCRS': 'TCRS /Government',\n",
    "    'Government/TCRS': 'TCRS /Government',\n",
    "    'ADRA /Government': 'ADRA/Government'\n",
    "}\n",
    "\n",
    "# Apply the replacements\n",
    "df['installer'] = df['installer'].replace(installer_mapping)\n"
   ]
  },
  {
   "cell_type": "markdown",
   "id": "e6e3ce80",
   "metadata": {},
   "source": [
    "### Public Meeting\n",
    "#### Public meetings are a way of the community to come together and raise issues of concern. We will also just drop missing values of the column."
   ]
  },
  {
   "cell_type": "code",
   "execution_count": 30,
   "id": "d44e8ddc",
   "metadata": {},
   "outputs": [],
   "source": [
    "#drop missing values in funder,installer,public meeting\n",
    "df = df.dropna(subset=['funder_reduced', 'installer', 'public_meeting'])"
   ]
  },
  {
   "cell_type": "code",
   "execution_count": 31,
   "id": "cbc50694",
   "metadata": {},
   "outputs": [
    {
     "data": {
      "text/plain": [
       "(65780, 39)"
      ]
     },
     "execution_count": 31,
     "metadata": {},
     "output_type": "execute_result"
    }
   ],
   "source": [
    "#preview shape\n",
    "df.shape"
   ]
  },
  {
   "cell_type": "markdown",
   "id": "1b19a7d0",
   "metadata": {},
   "source": [
    "## 4.Exploratory Data Analysis (EDA)"
   ]
  },
  {
   "cell_type": "markdown",
   "id": "3edd4144",
   "metadata": {},
   "source": [
    "### 4.1 Binary Target Variable Creation and Class Distribution\n",
    "#### To simplify the prediction task, have converted the original status_group target variable into a binary classification problem as per the objectives. Wells labeled as \"functional\" remain as is, while those labeled as \"needs_repair\" or \"non-functional\" were combined into a single \"needs_attention\" class."
   ]
  },
  {
   "cell_type": "code",
   "execution_count": 32,
   "id": "07aba4ba",
   "metadata": {},
   "outputs": [],
   "source": [
    "# Create binary target variable\n",
    "df['status_binary'] = df['status_group'].apply(lambda x: 'functional' if x == 'functional' else 'needs_attention')\n",
    "\n",
    "\n"
   ]
  },
  {
   "cell_type": "markdown",
   "id": "3abbcf26",
   "metadata": {},
   "source": [
    "#### Class Distribution"
   ]
  },
  {
   "cell_type": "code",
   "execution_count": 33,
   "id": "b3d5f095",
   "metadata": {},
   "outputs": [
    {
     "name": "stdout",
     "output_type": "stream",
     "text": [
      "Number of wells per class:\n",
      "needs_attention    37127\n",
      "functional         28653\n",
      "Name: status_binary, dtype: int64\n",
      "\n",
      "Percentage distribution per class:\n",
      "needs_attention    56.44\n",
      "functional         43.56\n",
      "Name: status_binary, dtype: float64\n"
     ]
    },
    {
     "data": {
      "image/png": "[encoded data removed]",
      "text/plain": [
       "<Figure size 432x288 with 1 Axes>"
      ]
     },
     "metadata": {
      "needs_background": "light"
     },
     "output_type": "display_data"
    }
   ],
   "source": [
    "# Count how many rows in each class\n",
    "class_counts = df['status_binary'].value_counts()\n",
    "print(\"Number of wells per class:\")\n",
    "print(class_counts)\n",
    "\n",
    "# Display the proportion (percentage) per class\n",
    "class_proportions = df['status_binary'].value_counts(normalize=True) * 100\n",
    "print(\"\\nPercentage distribution per class:\")\n",
    "print(class_proportions.round(2))\n",
    "\n",
    "# Plot the class distribution\n",
    "class_counts.plot(kind='bar', color=['green', 'red'], title='Binary Target Class Distribution')\n",
    "plt.xlabel('Well Status')\n",
    "plt.ylabel('Number of Wells')\n",
    "plt.xticks(rotation=0)\n",
    "plt.show()"
   ]
  },
  {
   "cell_type": "markdown",
   "id": "7ba06c1d",
   "metadata": {},
   "source": [
    "#### The dataset is fairly balanced with respect to the binary target classes:This shows that:\n",
    "#### About 56.44% of wells are functional\n",
    "#### About 43.56% need attention\n",
    "#### This near-even split ensures that our model will have sufficient examples from both classes to learn meaningful patterns, reducing the risk of bias towards the majority class."
   ]
  },
  {
   "cell_type": "markdown",
   "id": "f72bade7",
   "metadata": {},
   "source": [
    "### 4.2 **Univariate Analysis (Categorical Features)**\n",
    "#### Exploring key categorical variables to understand their distributions."
   ]
  },
  {
   "cell_type": "code",
   "execution_count": 35,
   "id": "15645f5c",
   "metadata": {},
   "outputs": [
    {
     "data": {
      "image/png": "[encoded data removed]",
      "text/plain": [
       "<Figure size 1008x1080 with 6 Axes>"
      ]
     },
     "metadata": {
      "needs_background": "light"
     },
     "output_type": "display_data"
    }
   ],
   "source": [
    "# visualizing Catogorical variables\n",
    "# Drop ID column\n",
    "if 'id' in df.columns:\n",
    "    df = df.drop(columns=['id'])\n",
    "\n",
    "# Categorical columns to visualize\n",
    "categorical_cols = ['funder_reduced', 'installer', 'payment_type', 'water_quality', 'source_type']\n",
    "\n",
    "# Setup the subplot grid\n",
    "num_plots = len(categorical_cols)\n",
    "cols = 2  \n",
    "rows = (num_plots + cols - 1) // cols\n",
    "fig, axes = plt.subplots(rows, cols, figsize=(14, 5 * rows))\n",
    "axes = axes.flatten()  # Flatten to 1D array for easy indexing\n",
    "\n",
    "for i, col in enumerate(categorical_cols):\n",
    "    top10 = df[col].value_counts().iloc[:10].index\n",
    "    sns.countplot(data=df, x=col, order=top10, ax=axes[i], palette='Set2')\n",
    "    axes[i].set_title(f'Distribution of {col}')\n",
    "    axes[i].set_xlabel(\"\")\n",
    "    axes[i].tick_params(axis='x', rotation=90)\n",
    "plt.tight_layout()\n",
    "plt.show()"
   ]
  },
  {
   "cell_type": "markdown",
   "id": "077f3da6",
   "metadata": {},
   "source": [
    "#### From the visualization of the categorical columns,it is clear that:\n",
    "#### - **Funder:** Government of Tanzania funds the majority of wells.\n",
    "#### - **Installer:** DWE is the most frequent installer — their wells' performance may be significant.\n",
    "#### - **Payment Type:** Most wells are community-funded (free), suggesting non-commercial purpose.\n",
    "#### - **Water Quality:** Majority use soft water relevant for assessing water safety.\n",
    "#### - **Source Type:** Shallow wells, springs, and boreholes dominate, potentially influencing functionality.\n"
   ]
  },
  {
   "cell_type": "markdown",
   "id": "129a3580",
   "metadata": {},
   "source": [
    "### 4.3 Distribution of Numerical values\n",
    "###  Checking outliers "
   ]
  },
  {
   "cell_type": "code",
   "execution_count": 36,
   "id": "c6c80d51",
   "metadata": {},
   "outputs": [
    {
     "name": "stdout",
     "output_type": "stream",
     "text": [
      "Column: amount_tsh\n",
      "       amount_tsh\n",
      "0          6000.0\n",
      "11          200.0\n",
      "16          500.0\n",
      "19          500.0\n",
      "20          200.0\n",
      "...           ...\n",
      "14833      1000.0\n",
      "14837       500.0\n",
      "14838      3000.0\n",
      "14842       600.0\n",
      "14846      1000.0\n",
      "\n",
      "[13485 rows x 1 columns]\n",
      "--------------------------------------------------\n",
      "Column: gps_height\n",
      "No outliers found.\n",
      "--------------------------------------------------\n",
      "Column: longitude\n",
      "       longitude\n",
      "53           0.0\n",
      "168          0.0\n",
      "253          0.0\n",
      "256          0.0\n",
      "285          0.0\n",
      "...          ...\n",
      "14634        0.0\n",
      "14649        0.0\n",
      "14676        0.0\n",
      "14766        0.0\n",
      "14831        0.0\n",
      "\n",
      "[1810 rows x 1 columns]\n",
      "--------------------------------------------------\n",
      "Column: latitude\n",
      "No outliers found.\n",
      "--------------------------------------------------\n",
      "Column: num_private\n",
      "       num_private\n",
      "469             39\n",
      "476              5\n",
      "519             45\n",
      "527              6\n",
      "608              3\n",
      "...            ...\n",
      "14514            1\n",
      "14538           39\n",
      "14554           34\n",
      "14645            2\n",
      "14672          102\n",
      "\n",
      "[909 rows x 1 columns]\n",
      "--------------------------------------------------\n",
      "Column: region_code\n",
      "       region_code\n",
      "3               90\n",
      "10              60\n",
      "26              80\n",
      "46              90\n",
      "91              80\n",
      "...            ...\n",
      "14799           60\n",
      "14817           60\n",
      "14822           90\n",
      "14825           90\n",
      "14828           60\n",
      "\n",
      "[4071 rows x 1 columns]\n",
      "--------------------------------------------------\n",
      "Column: district_code\n",
      "       district_code\n",
      "3                 63\n",
      "10                43\n",
      "26                23\n",
      "46                33\n",
      "91                53\n",
      "...              ...\n",
      "14799             53\n",
      "14817             53\n",
      "14822             33\n",
      "14825             63\n",
      "14828             43\n",
      "\n",
      "[4827 rows x 1 columns]\n",
      "--------------------------------------------------\n",
      "Column: population\n",
      "       population\n",
      "78            900\n",
      "95            950\n",
      "96           1430\n",
      "117           804\n",
      "118           600\n",
      "...           ...\n",
      "14819         600\n",
      "14820         749\n",
      "14837         780\n",
      "14843        1400\n",
      "14846        2960\n",
      "\n",
      "[4502 rows x 1 columns]\n",
      "--------------------------------------------------\n",
      "Column: construction_year\n",
      "No outliers found.\n",
      "--------------------------------------------------\n"
     ]
    }
   ],
   "source": [
    "#checking outliers in numerical data using Interquartile range\n",
    "#select numerical columns only\n",
    "numerical_data=df.select_dtypes(include='number')\n",
    "\n",
    "\n",
    "for col in numerical_data.columns:\n",
    "    Q1 = numerical_data[col].quantile(0.25)\n",
    "    Q3 = numerical_data[col].quantile(0.75)\n",
    "    IQR = Q3 - Q1\n",
    "\n",
    "    # Calculate bounds for outliers\n",
    "    lower_bound = Q1 - 1.5 * IQR\n",
    "    upper_bound = Q3 + 1.5 * IQR\n",
    "\n",
    "    # Extract outlier rows\n",
    "    outliers = df[(numerical_data[col] < lower_bound) | (numerical_data[col] > upper_bound)]\n",
    "\n",
    "    print(f\"Column: {col}\")\n",
    "    if not outliers.empty:\n",
    "        print(outliers[[col]])\n",
    "    else:\n",
    "        print(\"No outliers found.\")\n",
    "    print(\"-\" * 50)"
   ]
  },
  {
   "cell_type": "code",
   "execution_count": 27,
   "id": "d8545a60",
   "metadata": {},
   "outputs": [
    {
     "data": {
      "image/png": "[encoded data removed]",
      "text/plain": [
       "<Figure size 1440x720 with 8 Axes>"
      ]
     },
     "metadata": {
      "needs_background": "light"
     },
     "output_type": "display_data"
    }
   ],
   "source": [
    "#Visualizating the outliers in our numerical data\n",
    "def plt_boxplots(data,cols):\n",
    "    fig, axes =plt.subplots(2,4, figsize=(20,10))\n",
    "    axes=axes.ravel()\n",
    "    \n",
    "\n",
    "    colors=['black','skyblue','green','blue','black','purple','pink','brown','gray']\n",
    "\n",
    "    for i,col in enumerate(cols[:8]):\n",
    "        # convert the x-axis variable to a numeric data type\n",
    "        \n",
    "        data[col] = data[col].astype(float)\n",
    "        sns.boxplot(x=data[col], ax=axes[i], color=colors[i])\n",
    "        \n",
    "        axes[i].set_title(col)\n",
    "    plt.tight_layout()\n",
    "cols = df.select_dtypes(include='number').columns\n",
    "\n",
    "plt_boxplots(df, cols)\n",
    "\n"
   ]
  },
  {
   "cell_type": "markdown",
   "id": "45ff7706",
   "metadata": {},
   "source": [
    "##### **Amount_tsh**-Highly skewed with many extreme outliers on the right.Most of the data concentrated near zero.outliers to be handled or use log transformation.\n",
    "##### **gps height**-More symmetric distribution, but still shows some right-side outliers.\n",
    "##### **construction year**-Relatively well-distributed with no strong outliers.Appears normally distributed with a peak near a central value.\n",
    "##### **Population**-Very right-skewed — many outliers in high population areas.Most wells serve a small population, with a few outliers serving large communities.\n",
    "##### **num_plate**-Highly skewed and sparse — almost all values are 0 or low.Presence of extreme outliers might be a low-importance feature.\n",
    "##### **Region code** and **district code**-Both appear more categorical than numeric.to be ploted as barplot.\n",
    "\n"
   ]
  },
  {
   "cell_type": "markdown",
   "id": "cb8b640b",
   "metadata": {},
   "source": [
    "#### 4.3b Irrelevant columns\n",
    "##### The following columns appear not to have relevant infomation towards our project,we will therefore  drop them:(**Permit,Subvillage,wpt_name,region_code,district_code,iga, ward,recorded_by and date_recorded**)\n"
   ]
  },
  {
   "cell_type": "code",
   "execution_count": 37,
   "id": "83e4b525",
   "metadata": {},
   "outputs": [
    {
     "name": "stdout",
     "output_type": "stream",
     "text": [
      "Dropped columns: ['permit', 'subvillage', 'wpt_name', 'region_code', 'district_code', 'lga', 'ward', 'recorded_by', 'date_recorded', 'num_private']\n",
      "Current shape: (65780, 29)\n"
     ]
    }
   ],
   "source": [
    "irrelevant_columns = ['permit', 'subvillage', 'wpt_name', 'region_code', 'district_code',\n",
    "                      'lga', 'ward', 'recorded_by', 'date_recorded','num_private']\n",
    "\n",
    "# Keep only those columns that are actually still in the DataFrame\n",
    "columns_to_drop = [col for col in irrelevant_columns if col in df.columns]\n",
    "\n",
    "# Drop the invalid columns\n",
    "df.drop(columns=columns_to_drop, inplace=True)\n",
    "\n",
    "print(f\"Dropped columns: {columns_to_drop}\")\n",
    "print(f\"Current shape: {df.shape}\")"
   ]
  },
  {
   "cell_type": "markdown",
   "id": "fd42c374",
   "metadata": {},
   "source": [
    "### 4.4 Relationship between Target variable and features"
   ]
  },
  {
   "cell_type": "markdown",
   "id": "942317b1",
   "metadata": {},
   "source": [
    "#### Categorical vs Target variable"
   ]
  },
  {
   "cell_type": "code",
   "execution_count": 38,
   "id": "66608195",
   "metadata": {},
   "outputs": [
    {
     "data": {
      "image/png": "[encoded data removed]",
      "text/plain": [
       "<Figure size 1152x1080 with 6 Axes>"
      ]
     },
     "metadata": {
      "needs_background": "light"
     },
     "output_type": "display_data"
    }
   ],
   "source": [
    "\n",
    "#Layout\n",
    "n_cols =2\n",
    "n_rows=(len(categorical_cols)+n_cols-1) // n_cols\n",
    "\n",
    "# create figure\n",
    "fig,axes=plt.subplots(n_rows, n_cols,figsize=(16,5 * n_rows))\n",
    "axes=axes.flatten()\n",
    "\n",
    "for i,col in enumerate(categorical_cols):\n",
    "    top10 = df[col].value_counts().iloc[:10].index\n",
    "    sns.countplot(data=df, x=col, hue='status_binary', order=top10, ax=axes[i], palette='Set2')\n",
    "    axes[i].set_title(f'{col} vs Well Status')\n",
    "    axes[i].tick_params(axis='x', rotation=90)\n",
    "    axes[i].set_xlabel('')\n",
    "    axes[i].set_ylabel('Count')\n",
    "plt.tight_layout()\n",
    "plt.show()"
   ]
  },
  {
   "cell_type": "markdown",
   "id": "e07bae97",
   "metadata": {},
   "source": [
    "#### From the visualization ,relationship between categorical vs target is as follows:\n",
    "#### **Funder vs status** -Government of Tanzania funds the largest number of wells, but a higher portion of these wells need attention than are functional. Danida, Rwssp, and World Vision show a more balanced distribution, with relatively more functional wellsHesawa, Kkkt, and World Bank have a higher number of wells needing attention.\n",
    "#### **Installer vs status**-DWE is by far the most common installer, with a large number of wells both functional and needing attention.\n",
    "#### **Payment vs status**-\"Never pay\" is the most common and has high failure.\"Per bucket\" and \"monthly\" payments align more with functional wells, possibly reflecting better maintenance via community investment.\n",
    "### **water Quality vs Status**-Wells with soft water are more likely to be functional.wells with salty or milky water show higher need for attention.\n",
    "#### **Source type vs status** -Spring and river/lake sources show better functionality.Shallow wells and boreholes are more prone to needing attention.\n",
    "\n"
   ]
  },
  {
   "cell_type": "markdown",
   "id": "7dd49a7c",
   "metadata": {},
   "source": [
    "### 4.5 Numerical vs Target variable"
   ]
  },
  {
   "cell_type": "code",
   "execution_count": 39,
   "id": "7faeff8f",
   "metadata": {},
   "outputs": [
    {
     "data": {
      "image/png": "[encoded data removed]",
      "text/plain": [
       "<Figure size 1296x720 with 4 Axes>"
      ]
     },
     "metadata": {
      "needs_background": "light"
     },
     "output_type": "display_data"
    }
   ],
   "source": [
    "# Select only key numeric features for comparison\n",
    "selected_numeric_cols = ['amount_tsh', 'gps_height', 'population', 'construction_year']\n",
    "# layout\n",
    "num_features = len(selected_numeric_cols)\n",
    "cols_per_row = 3\n",
    "rows = (num_features + cols_per_row - 1) // cols_per_row\n",
    "\n",
    "plt.figure(figsize=(18, 5 * rows))\n",
    "\n",
    "for i, col in enumerate(selected_numeric_cols, 1):\n",
    "    plt.subplot(rows, cols_per_row, i)\n",
    "    sns.boxplot(data=df, x='status_binary', y=col, palette='Set2')\n",
    "    plt.title(f'{col} vs Well Status')\n",
    "    plt.xlabel('Well Status')\n",
    "    plt.ylabel(col)\n",
    "\n",
    "plt.tight_layout()\n",
    "plt.show()\n"
   ]
  },
  {
   "cell_type": "markdown",
   "id": "e3004db2",
   "metadata": {},
   "source": [
    "#### **"
   ]
  },
  {
   "cell_type": "markdown",
   "id": "48a01441",
   "metadata": {},
   "source": [
    "### 5.Preprocessing\n"
   ]
  },
  {
   "cell_type": "markdown",
   "id": "018e3919",
   "metadata": {},
   "source": [
    "### 5.1 Log transformation for skewed numerical features\n",
    "#### amount_tsh and population are highly skewed.applying log transformation will compress the scale for a better model."
   ]
  },
  {
   "cell_type": "code",
   "execution_count": 41,
   "id": "01dd8b51",
   "metadata": {},
   "outputs": [],
   "source": [
    "# Log transform skewed features\n",
    "df['amount_tsh_log'] = np.log1p(df['amount_tsh'])\n",
    "df['population_log'] = np.log1p(df['population'])\n"
   ]
  },
  {
   "cell_type": "code",
   "execution_count": 42,
   "id": "266c2d7a",
   "metadata": {},
   "outputs": [],
   "source": [
    "#Drop original amount_tsh and population\n",
    "df.drop(['amount_tsh', 'population'], axis=1, inplace=True)\n"
   ]
  },
  {
   "cell_type": "markdown",
   "id": "9e621b2c",
   "metadata": {},
   "source": [
    "### 5.3 Construction year to Well Age\n",
    "##### The well_age feature represents the age of a water well calculated as the difference between the current year (2025) and the year the well was constructed. This helps us understand how the age of a well affects its functionality, as older wells might be more prone to failures.\n",
    "##### Since some wells have invalid construction years (e.g. 0), we replace these with missing values and then impute using the median well age to maintain data integrity."
   ]
  },
  {
   "cell_type": "code",
   "execution_count": 43,
   "id": "0feb61c4",
   "metadata": {},
   "outputs": [],
   "source": [
    "# Calculate well age\n",
    "df['well_age'] = 2025 - df['construction_year']\n",
    "\n",
    "# Handle invalid years (e.g., 0)\n",
    "df.loc[df['well_age'] == 2025, 'well_age'] = np.nan  # Replace invalid '0' year wells with NaN\n",
    "\n",
    "# Impute missing well_age with median value\n",
    "df['well_age'] = df['well_age'].fillna(df['well_age'].median())"
   ]
  },
  {
   "cell_type": "markdown",
   "id": "d0b271f4",
   "metadata": {},
   "source": [
    "### 5.2 Encode Categorical Variables\n",
    "##### Machine learning model will require numerical inputs.We will use one-hot encoding to convert categorical features into binary.To avoid dummy variable trap, we will drop the first category from each one-hot encoded feature using drop_first=True"
   ]
  },
  {
   "cell_type": "code",
   "execution_count": 44,
   "id": "ac82bab1",
   "metadata": {},
   "outputs": [
    {
     "name": "stdout",
     "output_type": "stream",
     "text": [
      "Initial categorical columns:\n",
      "['installer', 'basin', 'region', 'public_meeting', 'extraction_type', 'extraction_type_group', 'extraction_type_class', 'management', 'management_group', 'payment', 'payment_type', 'water_quality', 'quality_group', 'quantity', 'quantity_group', 'source', 'source_type', 'source_class', 'waterpoint_type', 'waterpoint_type_group', 'funder_reduced']\n"
     ]
    }
   ],
   "source": [
    "#identify our cleaned categorical columns exclude the target.\n",
    "categ_cols=cat_cols = df.select_dtypes(include='object').columns.tolist()\n",
    "categ_cols = [col for col in categ_cols if col not in ['status_group', 'status_binary']]\n",
    "print(\"Initial categorical columns:\")\n",
    "print(categ_cols)\n"
   ]
  },
  {
   "cell_type": "code",
   "execution_count": null,
   "id": "7d1fcd64",
   "metadata": {},
   "outputs": [
    {
     "name": "stdout",
     "output_type": "stream",
     "text": [
      "Shape after encoding: (65780, 2280)\n"
     ]
    }
   ],
   "source": [
    "# Encode selected categorical variables using One-Hot Encoding\n",
    "df_encoded = pd.get_dummies(df,categ_cols, columns=categ_cols, drop_first=True)\n",
    "print(f\"Shape after encoding: {df_encoded.shape}\")"
   ]
  },
  {
   "cell_type": "markdown",
   "id": "a547394f",
   "metadata": {},
   "source": [
    "### 5.3 Split dataset back to Train and Test"
   ]
  },
  {
   "cell_type": "code",
   "execution_count": 46,
   "id": "7588b9e4",
   "metadata": {},
   "outputs": [
    {
     "data": {
      "text/html": [
       "<div>\n",
       "<style scoped>\n",
       "    .dataframe tbody tr th:only-of-type {\n",
       "        vertical-align: middle;\n",
       "    }\n",
       "\n",
       "    .dataframe tbody tr th {\n",
       "        vertical-align: top;\n",
       "    }\n",
       "\n",
       "    .dataframe thead th {\n",
       "        text-align: right;\n",
       "    }\n",
       "</style>\n",
       "<table border=\"1\" class=\"dataframe\">\n",
       "  <thead>\n",
       "    <tr style=\"text-align: right;\">\n",
       "      <th></th>\n",
       "      <th>gps_height</th>\n",
       "      <th>longitude</th>\n",
       "      <th>latitude</th>\n",
       "      <th>construction_year</th>\n",
       "      <th>amount_tsh_log</th>\n",
       "      <th>population_log</th>\n",
       "      <th>well_age</th>\n",
       "      <th>installer_0</th>\n",
       "      <th>installer_A.D.B</th>\n",
       "      <th>installer_AAR</th>\n",
       "      <th>...</th>\n",
       "      <th>funder_reduced_Norad</th>\n",
       "      <th>funder_reduced_Other</th>\n",
       "      <th>funder_reduced_Private Individual</th>\n",
       "      <th>funder_reduced_Rwssp</th>\n",
       "      <th>funder_reduced_Tasaf</th>\n",
       "      <th>funder_reduced_Tcrs</th>\n",
       "      <th>funder_reduced_Unicef</th>\n",
       "      <th>funder_reduced_Water</th>\n",
       "      <th>funder_reduced_World Bank</th>\n",
       "      <th>funder_reduced_World Vision</th>\n",
       "    </tr>\n",
       "  </thead>\n",
       "  <tbody>\n",
       "    <tr>\n",
       "      <th>0</th>\n",
       "      <td>1996</td>\n",
       "      <td>35.290799</td>\n",
       "      <td>-4.059696</td>\n",
       "      <td>2012</td>\n",
       "      <td>0.000000</td>\n",
       "      <td>5.774552</td>\n",
       "      <td>13.0</td>\n",
       "      <td>0</td>\n",
       "      <td>0</td>\n",
       "      <td>0</td>\n",
       "      <td>...</td>\n",
       "      <td>0</td>\n",
       "      <td>1</td>\n",
       "      <td>0</td>\n",
       "      <td>0</td>\n",
       "      <td>0</td>\n",
       "      <td>0</td>\n",
       "      <td>0</td>\n",
       "      <td>0</td>\n",
       "      <td>0</td>\n",
       "      <td>0</td>\n",
       "    </tr>\n",
       "    <tr>\n",
       "      <th>1</th>\n",
       "      <td>1569</td>\n",
       "      <td>36.656709</td>\n",
       "      <td>-3.309214</td>\n",
       "      <td>2000</td>\n",
       "      <td>0.000000</td>\n",
       "      <td>5.707110</td>\n",
       "      <td>25.0</td>\n",
       "      <td>0</td>\n",
       "      <td>0</td>\n",
       "      <td>0</td>\n",
       "      <td>...</td>\n",
       "      <td>0</td>\n",
       "      <td>0</td>\n",
       "      <td>0</td>\n",
       "      <td>0</td>\n",
       "      <td>0</td>\n",
       "      <td>0</td>\n",
       "      <td>0</td>\n",
       "      <td>0</td>\n",
       "      <td>0</td>\n",
       "      <td>0</td>\n",
       "    </tr>\n",
       "    <tr>\n",
       "      <th>5</th>\n",
       "      <td>1685</td>\n",
       "      <td>36.685279</td>\n",
       "      <td>-3.302420</td>\n",
       "      <td>1990</td>\n",
       "      <td>0.000000</td>\n",
       "      <td>5.303305</td>\n",
       "      <td>35.0</td>\n",
       "      <td>0</td>\n",
       "      <td>0</td>\n",
       "      <td>0</td>\n",
       "      <td>...</td>\n",
       "      <td>0</td>\n",
       "      <td>0</td>\n",
       "      <td>0</td>\n",
       "      <td>0</td>\n",
       "      <td>0</td>\n",
       "      <td>0</td>\n",
       "      <td>0</td>\n",
       "      <td>0</td>\n",
       "      <td>0</td>\n",
       "      <td>0</td>\n",
       "    </tr>\n",
       "    <tr>\n",
       "      <th>6</th>\n",
       "      <td>550</td>\n",
       "      <td>36.398041</td>\n",
       "      <td>-7.541382</td>\n",
       "      <td>2007</td>\n",
       "      <td>0.000000</td>\n",
       "      <td>6.398595</td>\n",
       "      <td>18.0</td>\n",
       "      <td>0</td>\n",
       "      <td>0</td>\n",
       "      <td>0</td>\n",
       "      <td>...</td>\n",
       "      <td>0</td>\n",
       "      <td>0</td>\n",
       "      <td>0</td>\n",
       "      <td>0</td>\n",
       "      <td>0</td>\n",
       "      <td>0</td>\n",
       "      <td>0</td>\n",
       "      <td>0</td>\n",
       "      <td>0</td>\n",
       "      <td>0</td>\n",
       "    </tr>\n",
       "    <tr>\n",
       "      <th>7</th>\n",
       "      <td>234</td>\n",
       "      <td>39.607420</td>\n",
       "      <td>-10.893786</td>\n",
       "      <td>1982</td>\n",
       "      <td>0.000000</td>\n",
       "      <td>0.693147</td>\n",
       "      <td>43.0</td>\n",
       "      <td>0</td>\n",
       "      <td>0</td>\n",
       "      <td>0</td>\n",
       "      <td>...</td>\n",
       "      <td>0</td>\n",
       "      <td>1</td>\n",
       "      <td>0</td>\n",
       "      <td>0</td>\n",
       "      <td>0</td>\n",
       "      <td>0</td>\n",
       "      <td>0</td>\n",
       "      <td>0</td>\n",
       "      <td>0</td>\n",
       "      <td>0</td>\n",
       "    </tr>\n",
       "    <tr>\n",
       "      <th>...</th>\n",
       "      <td>...</td>\n",
       "      <td>...</td>\n",
       "      <td>...</td>\n",
       "      <td>...</td>\n",
       "      <td>...</td>\n",
       "      <td>...</td>\n",
       "      <td>...</td>\n",
       "      <td>...</td>\n",
       "      <td>...</td>\n",
       "      <td>...</td>\n",
       "      <td>...</td>\n",
       "      <td>...</td>\n",
       "      <td>...</td>\n",
       "      <td>...</td>\n",
       "      <td>...</td>\n",
       "      <td>...</td>\n",
       "      <td>...</td>\n",
       "      <td>...</td>\n",
       "      <td>...</td>\n",
       "      <td>...</td>\n",
       "      <td>...</td>\n",
       "    </tr>\n",
       "    <tr>\n",
       "      <th>14844</th>\n",
       "      <td>0</td>\n",
       "      <td>34.096878</td>\n",
       "      <td>-3.079689</td>\n",
       "      <td>0</td>\n",
       "      <td>0.000000</td>\n",
       "      <td>0.000000</td>\n",
       "      <td>25.0</td>\n",
       "      <td>0</td>\n",
       "      <td>0</td>\n",
       "      <td>0</td>\n",
       "      <td>...</td>\n",
       "      <td>0</td>\n",
       "      <td>0</td>\n",
       "      <td>0</td>\n",
       "      <td>0</td>\n",
       "      <td>0</td>\n",
       "      <td>0</td>\n",
       "      <td>0</td>\n",
       "      <td>0</td>\n",
       "      <td>0</td>\n",
       "      <td>0</td>\n",
       "    </tr>\n",
       "    <tr>\n",
       "      <th>14845</th>\n",
       "      <td>34</td>\n",
       "      <td>38.852669</td>\n",
       "      <td>-6.582841</td>\n",
       "      <td>1988</td>\n",
       "      <td>0.000000</td>\n",
       "      <td>3.044522</td>\n",
       "      <td>37.0</td>\n",
       "      <td>0</td>\n",
       "      <td>0</td>\n",
       "      <td>0</td>\n",
       "      <td>...</td>\n",
       "      <td>0</td>\n",
       "      <td>0</td>\n",
       "      <td>0</td>\n",
       "      <td>0</td>\n",
       "      <td>0</td>\n",
       "      <td>0</td>\n",
       "      <td>0</td>\n",
       "      <td>0</td>\n",
       "      <td>0</td>\n",
       "      <td>0</td>\n",
       "    </tr>\n",
       "    <tr>\n",
       "      <th>14846</th>\n",
       "      <td>0</td>\n",
       "      <td>37.451633</td>\n",
       "      <td>-5.350428</td>\n",
       "      <td>1994</td>\n",
       "      <td>6.908755</td>\n",
       "      <td>7.993282</td>\n",
       "      <td>31.0</td>\n",
       "      <td>0</td>\n",
       "      <td>0</td>\n",
       "      <td>0</td>\n",
       "      <td>...</td>\n",
       "      <td>0</td>\n",
       "      <td>1</td>\n",
       "      <td>0</td>\n",
       "      <td>0</td>\n",
       "      <td>0</td>\n",
       "      <td>0</td>\n",
       "      <td>0</td>\n",
       "      <td>0</td>\n",
       "      <td>0</td>\n",
       "      <td>0</td>\n",
       "    </tr>\n",
       "    <tr>\n",
       "      <th>14848</th>\n",
       "      <td>998</td>\n",
       "      <td>35.432732</td>\n",
       "      <td>-10.584159</td>\n",
       "      <td>2009</td>\n",
       "      <td>0.000000</td>\n",
       "      <td>5.017280</td>\n",
       "      <td>16.0</td>\n",
       "      <td>0</td>\n",
       "      <td>0</td>\n",
       "      <td>0</td>\n",
       "      <td>...</td>\n",
       "      <td>0</td>\n",
       "      <td>1</td>\n",
       "      <td>0</td>\n",
       "      <td>0</td>\n",
       "      <td>0</td>\n",
       "      <td>0</td>\n",
       "      <td>0</td>\n",
       "      <td>0</td>\n",
       "      <td>0</td>\n",
       "      <td>0</td>\n",
       "    </tr>\n",
       "    <tr>\n",
       "      <th>14849</th>\n",
       "      <td>481</td>\n",
       "      <td>34.765054</td>\n",
       "      <td>-11.226012</td>\n",
       "      <td>2008</td>\n",
       "      <td>0.000000</td>\n",
       "      <td>3.713572</td>\n",
       "      <td>17.0</td>\n",
       "      <td>0</td>\n",
       "      <td>0</td>\n",
       "      <td>0</td>\n",
       "      <td>...</td>\n",
       "      <td>0</td>\n",
       "      <td>0</td>\n",
       "      <td>0</td>\n",
       "      <td>0</td>\n",
       "      <td>0</td>\n",
       "      <td>0</td>\n",
       "      <td>0</td>\n",
       "      <td>0</td>\n",
       "      <td>0</td>\n",
       "      <td>0</td>\n",
       "    </tr>\n",
       "  </tbody>\n",
       "</table>\n",
       "<p>13204 rows × 2277 columns</p>\n",
       "</div>"
      ],
      "text/plain": [
       "       gps_height  longitude   latitude  construction_year  amount_tsh_log  \\\n",
       "0            1996  35.290799  -4.059696               2012        0.000000   \n",
       "1            1569  36.656709  -3.309214               2000        0.000000   \n",
       "5            1685  36.685279  -3.302420               1990        0.000000   \n",
       "6             550  36.398041  -7.541382               2007        0.000000   \n",
       "7             234  39.607420 -10.893786               1982        0.000000   \n",
       "...           ...        ...        ...                ...             ...   \n",
       "14844           0  34.096878  -3.079689                  0        0.000000   \n",
       "14845          34  38.852669  -6.582841               1988        0.000000   \n",
       "14846           0  37.451633  -5.350428               1994        6.908755   \n",
       "14848         998  35.432732 -10.584159               2009        0.000000   \n",
       "14849         481  34.765054 -11.226012               2008        0.000000   \n",
       "\n",
       "       population_log  well_age  installer_0  installer_A.D.B  installer_AAR  \\\n",
       "0            5.774552      13.0            0                0              0   \n",
       "1            5.707110      25.0            0                0              0   \n",
       "5            5.303305      35.0            0                0              0   \n",
       "6            6.398595      18.0            0                0              0   \n",
       "7            0.693147      43.0            0                0              0   \n",
       "...               ...       ...          ...              ...            ...   \n",
       "14844        0.000000      25.0            0                0              0   \n",
       "14845        3.044522      37.0            0                0              0   \n",
       "14846        7.993282      31.0            0                0              0   \n",
       "14848        5.017280      16.0            0                0              0   \n",
       "14849        3.713572      17.0            0                0              0   \n",
       "\n",
       "       ...  funder_reduced_Norad  funder_reduced_Other  \\\n",
       "0      ...                     0                     1   \n",
       "1      ...                     0                     0   \n",
       "5      ...                     0                     0   \n",
       "6      ...                     0                     0   \n",
       "7      ...                     0                     1   \n",
       "...    ...                   ...                   ...   \n",
       "14844  ...                     0                     0   \n",
       "14845  ...                     0                     0   \n",
       "14846  ...                     0                     1   \n",
       "14848  ...                     0                     1   \n",
       "14849  ...                     0                     0   \n",
       "\n",
       "       funder_reduced_Private Individual  funder_reduced_Rwssp  \\\n",
       "0                                      0                     0   \n",
       "1                                      0                     0   \n",
       "5                                      0                     0   \n",
       "6                                      0                     0   \n",
       "7                                      0                     0   \n",
       "...                                  ...                   ...   \n",
       "14844                                  0                     0   \n",
       "14845                                  0                     0   \n",
       "14846                                  0                     0   \n",
       "14848                                  0                     0   \n",
       "14849                                  0                     0   \n",
       "\n",
       "       funder_reduced_Tasaf  funder_reduced_Tcrs  funder_reduced_Unicef  \\\n",
       "0                         0                    0                      0   \n",
       "1                         0                    0                      0   \n",
       "5                         0                    0                      0   \n",
       "6                         0                    0                      0   \n",
       "7                         0                    0                      0   \n",
       "...                     ...                  ...                    ...   \n",
       "14844                     0                    0                      0   \n",
       "14845                     0                    0                      0   \n",
       "14846                     0                    0                      0   \n",
       "14848                     0                    0                      0   \n",
       "14849                     0                    0                      0   \n",
       "\n",
       "       funder_reduced_Water  funder_reduced_World Bank  \\\n",
       "0                         0                          0   \n",
       "1                         0                          0   \n",
       "5                         0                          0   \n",
       "6                         0                          0   \n",
       "7                         0                          0   \n",
       "...                     ...                        ...   \n",
       "14844                     0                          0   \n",
       "14845                     0                          0   \n",
       "14846                     0                          0   \n",
       "14848                     0                          0   \n",
       "14849                     0                          0   \n",
       "\n",
       "       funder_reduced_World Vision  \n",
       "0                                0  \n",
       "1                                0  \n",
       "5                                0  \n",
       "6                                0  \n",
       "7                                0  \n",
       "...                            ...  \n",
       "14844                            0  \n",
       "14845                            0  \n",
       "14846                            0  \n",
       "14848                            0  \n",
       "14849                            0  \n",
       "\n",
       "[13204 rows x 2277 columns]"
      ]
     },
     "execution_count": 46,
     "metadata": {},
     "output_type": "execute_result"
    }
   ],
   "source": [
    "# Separate train and test based on the 'source' column\n",
    "train_cleaned = df_encoded[df_encoded['source_train'] == 1].copy()\n",
    "test_cleaned = df_encoded[df_encoded['source_train'] == 0].copy()\n",
    "\n",
    "# Drop the source columns\n",
    "train_cleaned.drop(columns=['source_train'], inplace=True)\n",
    "test_cleaned.drop(columns=['source_train', 'status_group', 'status_binary'], errors='ignore')"
   ]
  },
  {
   "cell_type": "code",
   "execution_count": 49,
   "id": "99fdd1c3",
   "metadata": {},
   "outputs": [
    {
     "data": {
      "text/plain": [
       "Index(['gps_height', 'longitude', 'latitude', 'construction_year',\n",
       "       'status_group', 'status_binary', 'amount_tsh_log', 'population_log',\n",
       "       'well_age', 'installer_0',\n",
       "       ...\n",
       "       'funder_reduced_Norad', 'funder_reduced_Other',\n",
       "       'funder_reduced_Private Individual', 'funder_reduced_Rwssp',\n",
       "       'funder_reduced_Tasaf', 'funder_reduced_Tcrs', 'funder_reduced_Unicef',\n",
       "       'funder_reduced_Water', 'funder_reduced_World Bank',\n",
       "       'funder_reduced_World Vision'],\n",
       "      dtype='object', length=2279)"
      ]
     },
     "execution_count": 49,
     "metadata": {},
     "output_type": "execute_result"
    }
   ],
   "source": [
    "train_cleaned.columns"
   ]
  },
  {
   "cell_type": "markdown",
   "id": "1d0a8fee",
   "metadata": {},
   "source": [
    "### 6. Modeling"
   ]
  },
  {
   "cell_type": "markdown",
   "id": "0f7b75ae",
   "metadata": {},
   "source": [
    "#### 6.1 Create features and target\n",
    "##### X to be our features and y to be our target"
   ]
  },
  {
   "cell_type": "code",
   "execution_count": 50,
   "id": "ef26b178",
   "metadata": {},
   "outputs": [],
   "source": [
    "# Features and target\n",
    "X = train_cleaned.drop(columns=['status_group', 'status_binary'], errors='ignore')\n",
    "y = train_cleaned['status_binary']\n"
   ]
  },
  {
   "cell_type": "markdown",
   "id": "b801952e",
   "metadata": {},
   "source": [
    "#### 6.2 Train/Test split for Validation\n",
    "##### Split data and Use a portion of the training set to validate the model"
   ]
  },
  {
   "cell_type": "code",
   "execution_count": 51,
   "id": "96997c85",
   "metadata": {},
   "outputs": [],
   "source": [
    "#use test size of 0.2 and random state 42\n",
    "\n",
    "X_train, X_val, y_train, y_val = train_test_split( X, y, stratify=y, test_size=0.2, random_state=42)\n"
   ]
  },
  {
   "cell_type": "markdown",
   "id": "f34f5743",
   "metadata": {},
   "source": [
    "### 6.3 Standardization\n",
    "##### in our dataset, several numerical feature exist on **different scales** we will standardize them using standardscaler:\n",
    "\n",
    "- `amount_tsh_log` might range between 0 and 15\n",
    "- `gps_height` can span from -50 to over 2000\n",
    "- `well_age` ranges from 0 to over 60 years\n",
    "- `population_log` values vary depending on the community size"
   ]
  },
  {
   "cell_type": "code",
   "execution_count": 52,
   "id": "283f6ae6",
   "metadata": {},
   "outputs": [],
   "source": [
    "# Instantiate the scaler\n",
    "scaler=StandardScaler()\n",
    "X_train_scaled = scaler.fit_transform(X_train)\n",
    "X_val_scaled = scaler.transform(X_val)\n"
   ]
  },
  {
   "cell_type": "code",
   "execution_count": null,
   "id": "95f00809",
   "metadata": {},
   "outputs": [],
   "source": []
  },
  {
   "cell_type": "markdown",
   "id": "6c4615d8",
   "metadata": {},
   "source": [
    "### 6.4 logistic model\n",
    "#### will develop a logistic model to be my base model."
   ]
  },
  {
   "cell_type": "code",
   "execution_count": 53,
   "id": "e8a6ad14",
   "metadata": {},
   "outputs": [],
   "source": [
    "#  Instantiate the model\n",
    "log_model = LogisticRegression(max_iter=200,solver='saga', random_state=42)\n",
    "#  Fit the model\n",
    "log_model.fit(X_train_scaled, y_train)\n",
    "#  Make predictions\n",
    "y_pred = log_model.predict(X_val_scaled)\n"
   ]
  },
  {
   "cell_type": "code",
   "execution_count": 58,
   "id": "b5331345",
   "metadata": {},
   "outputs": [
    {
     "name": "stdout",
     "output_type": "stream",
     "text": [
      "=== Confusion Matrix ===\n",
      "\n",
      "=== Classification Report ===\n",
      "                 precision    recall  f1-score   support\n",
      "\n",
      "     functional       0.76      0.85      0.80      5731\n",
      "needs_attention       0.80      0.68      0.73      4785\n",
      "\n",
      "       accuracy                           0.77     10516\n",
      "      macro avg       0.78      0.77      0.77     10516\n",
      "   weighted avg       0.78      0.77      0.77     10516\n",
      "\n",
      "\n",
      "=== Accuracy Score ===\n",
      "Accuracy: 77.4 %\n"
     ]
    }
   ],
   "source": [
    "# 4. Evaluate performance\n",
    "print(\"=== Confusion Matrix ===\")\n",
    "#print(confusion_matrix(y_val, y_pred))\n",
    "\n",
    "print(\"\\n=== Classification Report ===\")\n",
    "print(classification_report(y_val, y_pred))\n",
    "\n",
    "print(\"\\n=== Accuracy Score ===\")\n",
    "print(\"Accuracy:\", round(accuracy_score(y_val, y_pred) * 100, 2), \"%\")"
   ]
  },
  {
   "cell_type": "code",
   "execution_count": 64,
   "id": "26f6b126",
   "metadata": {},
   "outputs": [
    {
     "data": {
      "image/png": "[encoded data removed]",
      "text/plain": [
       "<Figure size 432x288 with 2 Axes>"
      ]
     },
     "metadata": {
      "needs_background": "light"
     },
     "output_type": "display_data"
    }
   ],
   "source": [
    "#Visualize our results\n",
    "# Get predictions and confusion matrix\n",
    "y_pred = log_model.predict(X_val_scaled)\n",
    "cm = confusion_matrix(y_val, y_pred, labels=[\"functional\", \"needs_attention\"])\n",
    "\n",
    "# Plot using seaborn heatmap\n",
    "plt.figure(figsize=(6,4))\n",
    "sns.heatmap(cm, annot=True, fmt='d', cmap='YlGnBu', \n",
    "            xticklabels=[\"functional\", \"needs_attention\"], \n",
    "            yticklabels=[\"functional\", \"needs_attention\"])\n",
    "\n",
    "plt.xlabel(\"Predicted Label\")\n",
    "plt.ylabel(\"True Label\")\n",
    "plt.title(\"Confusion Matrix\")\n",
    "plt.tight_layout()\n",
    "plt.show()"
   ]
  },
  {
   "cell_type": "markdown",
   "id": "bdb0392d",
   "metadata": {},
   "source": [
    "##### True Positives (TP): 4898 Wells that are functional and were correctly predicted as functional.\n",
    "\n",
    "#### False Negatives (FN): 833 Wells that are functional, but were predicted as needing attention.These are missed good wells ,could lead to unnecessary maintenance.\n",
    "\n",
    "#### False Positives (FP): 1544 Wells that need attention, but were predicted as functional.This is a serious concern because these wells may fail and get overlooked.\n",
    "\n",
    "#### True Negatives (TN): 3241 Wells that need attention, and were correctly predicted."
   ]
  }
 ],
 "metadata": {
  "kernelspec": {
   "display_name": "learn-env",
   "language": "python",
   "name": "python3"
  },
  "language_info": {
   "codemirror_mode": {
    "name": "ipython",
    "version": 3
   },
   "file_extension": ".py",
   "mimetype": "text/x-python",
   "name": "python",
   "nbconvert_exporter": "python",
   "pygments_lexer": "ipython3",
   "version": "3.8.5"
  }
 },
 "nbformat": 4,
 "nbformat_minor": 5
}
